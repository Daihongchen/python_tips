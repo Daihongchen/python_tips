{
 "cells": [
  {
   "cell_type": "code",
   "execution_count": 1,
   "metadata": {},
   "outputs": [],
   "source": [
    "import pandas as pd\n",
    "import numpy as np"
   ]
  },
  {
   "cell_type": "markdown",
   "metadata": {},
   "source": [
    "## Useful Python Coding Tips"
   ]
  },
  {
   "cell_type": "code",
   "execution_count": 2,
   "metadata": {},
   "outputs": [
    {
     "data": {
      "text/plain": [
       "'gnohiadwolleh'"
      ]
     },
     "execution_count": 2,
     "metadata": {},
     "output_type": "execute_result"
    }
   ],
   "source": [
    "# reverse\n",
    "\n",
    "my_string = \"hellowdaihong\"\n",
    "\n",
    "reversed_string = my_string[::-1]\n",
    "\n",
    "reversed_string "
   ]
  },
  {
   "cell_type": "code",
   "execution_count": 83,
   "metadata": {},
   "outputs": [
    {
     "data": {
      "text/plain": [
       "[0, 7, 6, 5, 4, 3, 2, 1]"
      ]
     },
     "execution_count": 83,
     "metadata": {},
     "output_type": "execute_result"
    }
   ],
   "source": [
    "my_list = [1,2,3,4,5,6,7,0]\n",
    "reversed_list = my_list[::-1]\n",
    "reversed_list"
   ]
  },
  {
   "cell_type": "code",
   "execution_count": 25,
   "metadata": {},
   "outputs": [
    {
     "data": {
      "text/plain": [
       "'gnohiadwolleh'"
      ]
     },
     "execution_count": 25,
     "metadata": {},
     "output_type": "execute_result"
    }
   ],
   "source": [
    "## writw an algorithm without using a function\n",
    "def reverse_string(my_string):\n",
    "    \n",
    "    temp_list=[]\n",
    "    for i in range(len(my_string)-1, -1, -1):\n",
    "        temp_list.append(my_string[i])\n",
    "        new_str = ''.join(temp_list)\n",
    "    return new_str\n",
    "\n",
    "my_string = \"hellowdaihong\"\n",
    "\n",
    "reverse_string(my_string)"
   ]
  },
  {
   "cell_type": "code",
   "execution_count": 3,
   "metadata": {},
   "outputs": [
    {
     "name": "stdout",
     "output_type": "stream",
     "text": [
      " Today Is A New Day. Please Cheer Up\n"
     ]
    }
   ],
   "source": [
    "# Catitalize the first letter\n",
    "\n",
    "my_string = \" today is a new day, please cheer up\"\n",
    "\n",
    "my_string = my_string.title()\n",
    "print(my_string)"
   ]
  },
  {
   "cell_type": "code",
   "execution_count": 41,
   "metadata": {},
   "outputs": [
    {
     "name": "stdout",
     "output_type": "stream",
     "text": [
      "bgactenhkd\n"
     ]
    }
   ],
   "source": [
    "# find the unique elements\n",
    "my_string = \"abcghdngbacndcadckgnadcadacgaetdgadcac\"\n",
    "\n",
    "temp_set = set(my_string)\n",
    "\n",
    "new_string = ''.join(temp_set)\n",
    "print(new_string)"
   ]
  },
  {
   "cell_type": "code",
   "execution_count": 35,
   "metadata": {},
   "outputs": [],
   "source": [
    "## write a function to find the unique elements\n",
    "\n",
    "def unique_elements(my_string):\n",
    "    hashmap = {}\n",
    "    for i in my_string:\n",
    "        if i not in hashmap:\n",
    "            hashmap[i] = 1\n",
    "        else:\n",
    "            hashmap[i] +=1\n",
    "    \n",
    "    temp_list = hashmap.keys()\n",
    "    unique_str = ''.join(temp_list)\n",
    "    return unique_str\n",
    "        "
   ]
  },
  {
   "cell_type": "code",
   "execution_count": 40,
   "metadata": {},
   "outputs": [
    {
     "name": "stdout",
     "output_type": "stream",
     "text": [
      "abcghdnket\n"
     ]
    }
   ],
   "source": [
    "my_string = \"abcghdngbacndcadckgnadcadacgaetdgadcac\"\n",
    "unique_elements(my_string)\n",
    "print(unique_elements(my_string))"
   ]
  },
  {
   "cell_type": "code",
   "execution_count": 11,
   "metadata": {},
   "outputs": [
    {
     "name": "stdout",
     "output_type": "stream",
     "text": [
      "ABCDABCDABCD\n",
      "[2, 5, 6, 2, 5, 6, 2, 5, 6]\n"
     ]
    }
   ],
   "source": [
    "# string or list times by a number\n",
    "\n",
    "my_string = \"ABCD\"\n",
    "my_list = [2,5,6]\n",
    "\n",
    "new_string = my_string * 3\n",
    "\n",
    "new_list = my_list * 3\n",
    "\n",
    "print(new_string)\n",
    "\n",
    "print(new_list)"
   ]
  },
  {
   "cell_type": "code",
   "execution_count": 42,
   "metadata": {},
   "outputs": [
    {
     "data": {
      "text/plain": [
       "[5, 10, 15, 25, 30, 35, 40]"
      ]
     },
     "execution_count": 42,
     "metadata": {},
     "output_type": "execute_result"
    }
   ],
   "source": [
    "## list comprehension\n",
    "\n",
    "orginal_list = [1,2,3,5,6,7,8]\n",
    "new_list = [5 * i for i in orginal_list]\n",
    "new_list"
   ]
  },
  {
   "cell_type": "code",
   "execution_count": 43,
   "metadata": {},
   "outputs": [
    {
     "name": "stdout",
     "output_type": "stream",
     "text": [
      "5 1\n"
     ]
    }
   ],
   "source": [
    "## exchange element\n",
    "a = 1\n",
    "b = 5\n",
    "a, b = b, a\n",
    "print(a, b)"
   ]
  },
  {
   "cell_type": "code",
   "execution_count": 46,
   "metadata": {},
   "outputs": [
    {
     "name": "stdout",
     "output_type": "stream",
     "text": [
      "['I', 'love', 'autumn', 'because', 'it', 'is', 'a', 'very', 'beautiful', 'day']\n",
      "['sample', 'string', 'split']\n"
     ]
    },
    {
     "data": {
      "text/plain": [
       "'i love autumn because it is a very beautiful day'"
      ]
     },
     "execution_count": 46,
     "metadata": {},
     "output_type": "execute_result"
    }
   ],
   "source": [
    "## split string as single element in a list\n",
    "\n",
    "string1 = 'I love autumn because it is a very beautiful day'\n",
    "string2 = 'sample;string;split'\n",
    "print(string1.split())\n",
    "print(string2.split(';'))\n",
    "\n",
    "## join strings as a sentence:\n",
    "str_list = ['i', 'love', 'autumn', 'because', 'it', 'is', 'a', 'very', 'beautiful', 'day']\n",
    "' '.join(str_list)"
   ]
  },
  {
   "cell_type": "code",
   "execution_count": 51,
   "metadata": {},
   "outputs": [],
   "source": [
    "## Palindrome \n",
    "\n",
    "def check_palindrome(my_string):\n",
    "    if my_string == my_string[::-1]:\n",
    "        return True\n",
    "    else:\n",
    "        return False"
   ]
  },
  {
   "cell_type": "code",
   "execution_count": 52,
   "metadata": {},
   "outputs": [
    {
     "data": {
      "text/plain": [
       "True"
      ]
     },
     "execution_count": 52,
     "metadata": {},
     "output_type": "execute_result"
    }
   ],
   "source": [
    "check_palindrome('abba')"
   ]
  },
  {
   "cell_type": "code",
   "execution_count": 54,
   "metadata": {},
   "outputs": [
    {
     "data": {
      "text/plain": [
       "'gfedcba'"
      ]
     },
     "execution_count": 54,
     "metadata": {},
     "output_type": "execute_result"
    }
   ],
   "source": [
    "my_string = 'abcdefg'\n",
    "my_string[::-1]"
   ]
  },
  {
   "cell_type": "code",
   "execution_count": 58,
   "metadata": {},
   "outputs": [
    {
     "name": "stdout",
     "output_type": "stream",
     "text": [
      "Counter({5: 6, 7: 4, 1: 3, 2: 3, 3: 3, 6: 3, 4: 2, 78: 1, 42: 1, 21: 1, 34: 1, 32: 1})\n",
      "[(5, 6), (7, 4)]\n"
     ]
    }
   ],
   "source": [
    "## Counter and most_common() function\n",
    "from collections import Counter\n",
    "\n",
    "my_list = [1,2,3,5,2,5,6,7,78,3,4,5,42,21,34,32,1,3,4,5,6,7,7,5,6,7,2,1,5]\n",
    "\n",
    "count=Counter(my_list)\n",
    "print(count)\n",
    "print(count.most_common(2))"
   ]
  },
  {
   "cell_type": "code",
   "execution_count": 61,
   "metadata": {},
   "outputs": [],
   "source": [
    "# write a function:\n",
    "\n",
    "def counter_func(my_list):\n",
    "    hashmark = {}\n",
    "    for i in my_list:\n",
    "        if i not in hashmark:\n",
    "            hashmark[i] = 1\n",
    "        else:\n",
    "            hashmark[i] += 1\n",
    "    return hashmark"
   ]
  },
  {
   "cell_type": "code",
   "execution_count": 62,
   "metadata": {},
   "outputs": [
    {
     "data": {
      "text/plain": [
       "{1: 3, 2: 3, 3: 3, 5: 6, 6: 3, 7: 4, 78: 1, 4: 2, 42: 1, 21: 1, 34: 1, 32: 1}"
      ]
     },
     "execution_count": 62,
     "metadata": {},
     "output_type": "execute_result"
    }
   ],
   "source": [
    "my_list = [1,2,3,5,2,5,6,7,78,3,4,5,42,21,34,32,1,3,4,5,6,7,7,5,6,7,2,1,5]\n",
    "counter_func(my_list)"
   ]
  },
  {
   "cell_type": "code",
   "execution_count": 67,
   "metadata": {},
   "outputs": [],
   "source": [
    "## use counter to check anagrams: anagrams means the elements are the same in two strings but different oder\n",
    "\n",
    "from collections import Counter\n",
    "str_1 = 'abbcdegt'\n",
    "str_2 = 'acdbegbt'\n",
    "str_3 = 'abhdacgt'\n",
    "\n",
    "def check_anagram(str_a, str_b):\n",
    "    count_a = Counter(str_a)\n",
    "    count_b = Counter(str_b)\n",
    "    if count_a == count_b:\n",
    "        return True\n",
    "    else:\n",
    "        return False"
   ]
  },
  {
   "cell_type": "code",
   "execution_count": 68,
   "metadata": {},
   "outputs": [
    {
     "data": {
      "text/plain": [
       "False"
      ]
     },
     "execution_count": 68,
     "metadata": {},
     "output_type": "execute_result"
    }
   ],
   "source": [
    "check_anagram(str_1, str_3)"
   ]
  },
  {
   "cell_type": "code",
   "execution_count": 87,
   "metadata": {},
   "outputs": [
    {
     "name": "stdout",
     "output_type": "stream",
     "text": [
      "5.0\n",
      "no exceptions raised\n",
      "run this always\n"
     ]
    }
   ],
   "source": [
    "## try, except, else, finally:\n",
    "a, b = 10, 2\n",
    "try:\n",
    "    print(a/b)\n",
    "except ZeroDivisionError:\n",
    "        \n",
    "else:\n",
    "    print('no exceptions raised')\n",
    "finally:\n",
    "    print('run this always')"
   ]
  },
  {
   "cell_type": "code",
   "execution_count": 104,
   "metadata": {},
   "outputs": [
    {
     "name": "stdout",
     "output_type": "stream",
     "text": [
      "50.0\n",
      "no exceptions raised\n",
      "run this always\n",
      "33.333333333333336\n",
      "no exceptions raised\n",
      "run this always\n",
      "25.0\n",
      "no exceptions raised\n",
      "run this always\n",
      "50.0\n",
      "no exceptions raised\n",
      "run this always\n",
      "16.666666666666668\n",
      "no exceptions raised\n",
      "run this always\n",
      "devision by zero\n",
      "run this always\n",
      "11.11111111111111\n",
      "no exceptions raised\n",
      "run this always\n",
      "devision by zero\n",
      "run this always\n",
      "12.5\n",
      "no exceptions raised\n",
      "run this always\n",
      "11.11111111111111\n",
      "no exceptions raised\n",
      "run this always\n",
      "100.0\n",
      "no exceptions raised\n",
      "run this always\n"
     ]
    }
   ],
   "source": [
    "a = 100\n",
    "b = [2,3,4,2,6,0,9,0,8,9,1]\n",
    "for i in b:\n",
    "    try:\n",
    "        print(a/i)\n",
    "    except ZeroDivisionError:\n",
    "            print('devision by zero')\n",
    "    else:\n",
    "        print('no exceptions raised')\n",
    "    finally:\n",
    "        print('run this always')\n"
   ]
  },
  {
   "cell_type": "code",
   "execution_count": 70,
   "metadata": {},
   "outputs": [
    {
     "name": "stdout",
     "output_type": "stream",
     "text": [
      "28\n"
     ]
    }
   ],
   "source": [
    "## find the storage size for the element\n",
    "import sys\n",
    "num = 23456\n",
    "print(sys.getsizeof(num))"
   ]
  },
  {
   "cell_type": "code",
   "execution_count": 73,
   "metadata": {},
   "outputs": [
    {
     "name": "stdout",
     "output_type": "stream",
     "text": [
      "{'apple': 4, 'banana': 3, 'blueberry': 12, 'orage': 2}\n"
     ]
    }
   ],
   "source": [
    "## combine dictionaries: if all dictionaries have the same key, the last one will be used. \n",
    "dic_a = {'apple': 4, 'banana': 6}\n",
    "dic_b = {'banana': 9, 'blueberry': 12}\n",
    "dic_c = {'banana': 3, \"orage\": 2}\n",
    "\n",
    "\n",
    "combine_dic = {**dic_a, **dic_b, **dic_c}\n",
    "print(combine_dic)"
   ]
  },
  {
   "cell_type": "code",
   "execution_count": 86,
   "metadata": {},
   "outputs": [
    {
     "name": "stdout",
     "output_type": "stream",
     "text": [
      "<generator object flatten.<locals>.<genexpr> at 0x10e97e6d0>\n"
     ]
    }
   ],
   "source": [
    "# flatten list:\n",
    "\n",
    "# from iteration_utilities import deepflatten\n",
    "\n",
    "def flatten(l):\n",
    "    return (item for sublist in l for item in sublist)\n",
    "\n",
    "l = [[1,2,3], [3,4,5]]\n",
    "l = flatten(l)\n",
    "print(l)"
   ]
  },
  {
   "cell_type": "code",
   "execution_count": 78,
   "metadata": {},
   "outputs": [
    {
     "data": {
      "text/plain": [
       "[26, 8, 88, 92, 39, 77, 38, 71, 93, 4]"
      ]
     },
     "execution_count": 78,
     "metadata": {},
     "output_type": "execute_result"
    }
   ],
   "source": [
    "## random sampling:\n",
    "import random\n",
    "\n",
    "my_list = range(100)\n",
    "\n",
    "my_sample = random.sample(my_list, 10)\n",
    "my_sample"
   ]
  },
  {
   "cell_type": "code",
   "execution_count": 82,
   "metadata": {},
   "outputs": [
    {
     "data": {
      "text/plain": [
       "[59, 58, 51, 3, 20, 60, 78, 68, 16, 56]"
      ]
     },
     "execution_count": 82,
     "metadata": {},
     "output_type": "execute_result"
    }
   ],
   "source": [
    "# secured sampling\n",
    "\n",
    "import secrets\n",
    "secure_random = secrets.SystemRandom()\n",
    "my_sample = secure_random.sample(my_list, 10)\n",
    "my_sample"
   ]
  },
  {
   "cell_type": "code",
   "execution_count": 109,
   "metadata": {},
   "outputs": [
    {
     "name": "stdout",
     "output_type": "stream",
     "text": [
      "0 a\n",
      "1 g\n",
      "2 b\n",
      "3 n\n",
      "4 t\n",
      "5 s\n",
      "6 p\n"
     ]
    }
   ],
   "source": [
    "my_list = ['a', 'g', 'b', 'n', 't', 's', 'p']\n",
    "\n",
    "for i, v in enumerate(my_list):\n",
    "    print(i,v)"
   ]
  },
  {
   "cell_type": "markdown",
   "metadata": {},
   "source": [
    "# Fibonacci\n",
    "The Fibonacci List is the list of numbers: 0, 1, 1, 2, 3, 5, 8, 13, 21, 34, … \n",
    "The next number is generated by adding up the two numbers before it. Build a function FibLst which takes an integer n as input and returns an n-element Fibonacci List. If n is less than 1, returns -1.\n",
    "\n",
    "## Examples\n",
    "\n",
    "FibLst(1) returns [0]\n",
    "\n",
    "FibLst(3) returns [0, 1, 1]\n",
    "\n",
    "FibLst(6) returns [0, 1, 1, 2, 3, 5]\n",
    "\n",
    "FibLst(-3) returns -1"
   ]
  },
  {
   "cell_type": "code",
   "execution_count": 11,
   "metadata": {},
   "outputs": [],
   "source": [
    "def FibLst(n):\n",
    "    if n < 1:\n",
    "        return -1\n",
    "    new_list=[]\n",
    "    s = 0\n",
    "    for i in range(n):\n",
    "        if i <= 1:\n",
    "            s = s + i\n",
    "            new_list.append(s)\n",
    "        else:\n",
    "            s = s + new_list[i-2]\n",
    "            new_list.append(s)\n",
    "    return new_list\n",
    "        "
   ]
  },
  {
   "cell_type": "code",
   "execution_count": 18,
   "metadata": {},
   "outputs": [
    {
     "data": {
      "text/plain": [
       "[0, 1, 1, 2, 3, 5, 8, 13, 21, 34]"
      ]
     },
     "execution_count": 18,
     "metadata": {},
     "output_type": "execute_result"
    }
   ],
   "source": [
    "FibLst(10)"
   ]
  },
  {
   "cell_type": "code",
   "execution_count": 22,
   "metadata": {},
   "outputs": [],
   "source": [
    "def FibLst(n):\n",
    "    if n < 1:\n",
    "        return -1\n",
    "    elif n == 1:\n",
    "        return [0]\n",
    "    elif n == 2:\n",
    "        return [0,1]\n",
    "    else:\n",
    "        new_list=[0,1]\n",
    "        for i in range(2, n):\n",
    "            new_list.append(new_list[i-1] + new_list[i-2])\n",
    "    return new_list\n",
    "    "
   ]
  },
  {
   "cell_type": "code",
   "execution_count": 24,
   "metadata": {},
   "outputs": [
    {
     "data": {
      "text/plain": [
       "-1"
      ]
     },
     "execution_count": 24,
     "metadata": {},
     "output_type": "execute_result"
    }
   ],
   "source": [
    "FibLst(0)"
   ]
  },
  {
   "cell_type": "code",
   "execution_count": 25,
   "metadata": {},
   "outputs": [],
   "source": [
    "# Build a function RevLst which reverses a list.\n",
    "def RevLst(my_list):\n",
    "    return my_list[::-1]"
   ]
  },
  {
   "cell_type": "code",
   "execution_count": 26,
   "metadata": {},
   "outputs": [
    {
     "data": {
      "text/plain": [
       "[5, 4, 3, 2, 1]"
      ]
     },
     "execution_count": 26,
     "metadata": {},
     "output_type": "execute_result"
    }
   ],
   "source": [
    "RevLst([1,2,3,4,5])"
   ]
  },
  {
   "cell_type": "markdown",
   "metadata": {},
   "source": [
    "Build a function IsIn to tell whether a target element in a list.\n",
    "\n",
    "Examples\n",
    "\n",
    "IsIn([1, 2, 3, 4, 5], 2) returns True\n",
    "\n",
    "IsIn([1, 2, 3, 4, 5], 6) returns False"
   ]
  },
  {
   "cell_type": "code",
   "execution_count": 29,
   "metadata": {},
   "outputs": [],
   "source": [
    "def IsIn(my_list, n):\n",
    "    for i in my_list:\n",
    "        if i == n:\n",
    "            return True\n",
    "    else:\n",
    "        return False"
   ]
  },
  {
   "cell_type": "code",
   "execution_count": 32,
   "metadata": {},
   "outputs": [
    {
     "data": {
      "text/plain": [
       "False"
      ]
     },
     "execution_count": 32,
     "metadata": {},
     "output_type": "execute_result"
    }
   ],
   "source": [
    "IsIn([1,2,3,4,5,6], 7)"
   ]
  },
  {
   "cell_type": "code",
   "execution_count": 36,
   "metadata": {},
   "outputs": [],
   "source": [
    "def IsIn(my_list, n):\n",
    "    if n in my_list:\n",
    "        return True\n",
    "    else:\n",
    "        return False"
   ]
  },
  {
   "cell_type": "code",
   "execution_count": 37,
   "metadata": {},
   "outputs": [
    {
     "data": {
      "text/plain": [
       "False"
      ]
     },
     "execution_count": 37,
     "metadata": {},
     "output_type": "execute_result"
    }
   ],
   "source": [
    "IsIn([1,2,3,4,5,6], 7)"
   ]
  },
  {
   "cell_type": "markdown",
   "metadata": {},
   "source": [
    "# Remove an Element\n",
    "Description\n",
    "\n",
    "Build a function RmEl to remove a target element from a list. If the target element appears in the list for multiple times, only remove the first one.\n",
    "\n",
    "Examples\n",
    "\n",
    "RmEl([1, 2, 3, 4, 5], 2) returns [1, 3, 4, 5]\n",
    "\n",
    "RmEl([1, 2, 3, 4, 5], 6) returns [1, 2, 3, 4, 5]\n",
    "\n",
    "RmEl([1, 2, 3, 3, 4, 5], 3) returns [1, 2, 3, 4, 5]"
   ]
  },
  {
   "cell_type": "code",
   "execution_count": 88,
   "metadata": {},
   "outputs": [],
   "source": [
    "def RmEI(my_list, n):\n",
    "    if n in my_list:\n",
    "        return my_list.remove(n)\n",
    "\n",
    "    else:\n",
    "        return my_list"
   ]
  },
  {
   "cell_type": "code",
   "execution_count": 89,
   "metadata": {},
   "outputs": [
    {
     "data": {
      "text/plain": [
       "[1, 4, 5, 6]"
      ]
     },
     "execution_count": 89,
     "metadata": {},
     "output_type": "execute_result"
    }
   ],
   "source": [
    "# my_list = [1,2,3,4,5,6]\n",
    "# n = 4\n",
    "RmEI(my_list, 3)"
   ]
  },
  {
   "cell_type": "code",
   "execution_count": 54,
   "metadata": {},
   "outputs": [],
   "source": [
    "\n",
    "# new_list = my_list.pop[2]\n",
    "# new_list"
   ]
  },
  {
   "cell_type": "markdown",
   "metadata": {},
   "source": [
    "# Separate Numbers\n",
    "\n",
    "Description\n",
    "\n",
    "Build a function SepNum which extracts the odd numbers from a given list ands append the odd numbers at the end of the list.\n",
    "\n",
    "Examples\n",
    "\n",
    "SepNum([1, 2, 3, 4, 5, 6]) returns [2, 4, 6, 1, 3, 5]\n",
    "\n",
    "SepNum([1, 3, 5]) returns [1, 3, 5]\n",
    "\n",
    "SepNum([2, 4, 6]) returns [2, 4, 6]"
   ]
  },
  {
   "cell_type": "code",
   "execution_count": 101,
   "metadata": {},
   "outputs": [],
   "source": [
    "def SepNum(my_list):\n",
    "    start = 0\n",
    "    for i, v in enumerate(my_list):\n",
    "        if v % 2 == 0:\n",
    "            my_list[start], my_list[i] = my_list[i], my_list[start]\n",
    "            start += 1\n",
    "    return my_list\n",
    "            \n",
    "            "
   ]
  },
  {
   "cell_type": "code",
   "execution_count": 104,
   "metadata": {},
   "outputs": [
    {
     "data": {
      "text/plain": [
       "[4, 2, 4, 6, 5, 7, 1, 5, 3, 7]"
      ]
     },
     "execution_count": 104,
     "metadata": {},
     "output_type": "execute_result"
    }
   ],
   "source": [
    "SepNum([1,4, 2,3,5,7,4,5,6, 7])"
   ]
  },
  {
   "cell_type": "code",
   "execution_count": 106,
   "metadata": {},
   "outputs": [
    {
     "data": {
      "text/plain": [
       "[1, 2, 3, 4, 5, 2, 3, 4, 5, 6, 7, 8]"
      ]
     },
     "execution_count": 106,
     "metadata": {},
     "output_type": "execute_result"
    }
   ],
   "source": [
    "a = [1,2,3,4,5]\n",
    "b = [2,3,4,5,6,7,8]\n",
    "a+b"
   ]
  },
  {
   "cell_type": "markdown",
   "metadata": {},
   "source": [
    "## Remove Duplicates from a List\n",
    "Description\n",
    "\n",
    "Build a function RmDuplicate which remove all the duplicates from a list.\n",
    "\n",
    "Examples\n",
    "\n",
    "RmDuplicate([3, 1, 2, 3, 4, 5, 6]) returns [1, 2, 3, 4, 5, 6]\n",
    "\n",
    "RmDuplicate([1, 3, 5]) returns [1, 3, 5]"
   ]
  },
  {
   "cell_type": "code",
   "execution_count": 110,
   "metadata": {},
   "outputs": [],
   "source": [
    "def RmDuplicate(my_list):\n",
    "    return list(set(my_list))"
   ]
  },
  {
   "cell_type": "code",
   "execution_count": 108,
   "metadata": {},
   "outputs": [],
   "source": [
    "def RD(my_list):\n",
    "    if not my_list:\n",
    "        return []\n",
    "    hashmap={}\n",
    "    for i, v in enumerate(my_list):\n",
    "        if v not in hashmap:\n",
    "            hashmap[v]=1\n",
    "        else:\n",
    "            hashmap[v] += 1\n",
    "    new_list = []\n",
    "    for i, v in hashmap.items():\n",
    "        new_list.append(i)\n",
    "    return new_list"
   ]
  },
  {
   "cell_type": "code",
   "execution_count": 109,
   "metadata": {},
   "outputs": [
    {
     "data": {
      "text/plain": [
       "[1, 2, 3, 4, 5]"
      ]
     },
     "execution_count": 109,
     "metadata": {},
     "output_type": "execute_result"
    }
   ],
   "source": [
    "RD([1,2,3,2,3,4,3,4,5,2,3,4])"
   ]
  },
  {
   "cell_type": "code",
   "execution_count": 112,
   "metadata": {},
   "outputs": [],
   "source": [
    "def RD1(my_list):\n",
    "    if not my_list:\n",
    "        return []\n",
    "    new_list=[]\n",
    "    for i in my_list:\n",
    "        if i not in new_list:\n",
    "            new_list.append(i)\n",
    "    return sorted(new_list)"
   ]
  },
  {
   "cell_type": "code",
   "execution_count": 113,
   "metadata": {},
   "outputs": [
    {
     "data": {
      "text/plain": [
       "[1, 2, 3, 4, 5]"
      ]
     },
     "execution_count": 113,
     "metadata": {},
     "output_type": "execute_result"
    }
   ],
   "source": [
    "RD1([1,2,3,2,3,4,3,4,5,2,3,4])"
   ]
  },
  {
   "cell_type": "markdown",
   "metadata": {},
   "source": [
    "## Sort a List\n",
    "\n",
    "Description\n",
    "\n",
    "Build a function SortLst which sorts a list. At this time you can just use the built-in function in Python.\n",
    "\n",
    "Examples\n",
    "\n",
    "SortLst([4, 2, 1, 3, 4, 5]) returns [1, 2, 3, 4, 4, 5]\n",
    "\n",
    "SortLst([1, 3, 5]) returns [1, 3, 5]"
   ]
  },
  {
   "cell_type": "code",
   "execution_count": 619,
   "metadata": {},
   "outputs": [],
   "source": [
    "def SortLst(my_list):\n",
    "    my_list.sort()\n",
    "    return my_list"
   ]
  },
  {
   "cell_type": "code",
   "execution_count": 620,
   "metadata": {},
   "outputs": [
    {
     "data": {
      "text/plain": [
       "[1, 2, 3, 4, 5]"
      ]
     },
     "execution_count": 620,
     "metadata": {},
     "output_type": "execute_result"
    }
   ],
   "source": [
    "SortLst([1,3,4,2,5])"
   ]
  },
  {
   "cell_type": "code",
   "execution_count": 189,
   "metadata": {},
   "outputs": [],
   "source": [
    "def SL1(my_list):\n",
    "    new_list=[]\n",
    "    while my_list:\n",
    "        minm = my_list[0]\n",
    "        for i in my_list:\n",
    "            if i < minm:\n",
    "                minm = i\n",
    "        new_list.append(minm)\n",
    "        my_list.remove(minm)\n",
    "    return new_list"
   ]
  },
  {
   "cell_type": "code",
   "execution_count": 190,
   "metadata": {},
   "outputs": [],
   "source": [
    "my_list = [6,3,4,2,6,3,4,7,4,5,8,3,5]"
   ]
  },
  {
   "cell_type": "code",
   "execution_count": 191,
   "metadata": {},
   "outputs": [
    {
     "data": {
      "text/plain": [
       "[2, 3, 3, 3, 4, 4, 4, 5, 5, 6, 6, 7, 8]"
      ]
     },
     "execution_count": 191,
     "metadata": {},
     "output_type": "execute_result"
    }
   ],
   "source": [
    "SL1(my_list)"
   ]
  },
  {
   "cell_type": "code",
   "execution_count": 194,
   "metadata": {},
   "outputs": [],
   "source": [
    "def SL(dara_list):\n",
    "    new_list = []\n",
    "    while data_list:\n",
    "        minimum = data_list[0]  # arbitrary number in list \n",
    "        for x in data_list: \n",
    "            if x < minimum:\n",
    "                minimum = x\n",
    "        new_list.append(minimum)\n",
    "        data_list.remove(minimum)    \n",
    "\n",
    "    return new_list"
   ]
  },
  {
   "cell_type": "markdown",
   "metadata": {},
   "source": [
    "## Insert a Number in a Sorted List\n",
    "\n",
    "Description\n",
    "\n",
    "Build a function NumInsert which inserts a number in a sorted list.\n",
    "\n",
    "Examples\n",
    "\n",
    "NumInsert([1, 2, 3, 4, 5, 6], 3) returns [1, 2, 3, 3, 4, 5, 6]\n",
    "\n",
    "NumInsert([1, 2, 3, 4, 5, 6], 7) returns [1, 2, 3, 4, 5, 6, 7]\n",
    "\n",
    "NumInsert([1, 2, 3, 4, 5, 6], -1) returns [-1, 1, 2, 3, 4, 5, 6]"
   ]
  },
  {
   "cell_type": "code",
   "execution_count": 197,
   "metadata": {},
   "outputs": [],
   "source": [
    "def InsertLst(my_list, n):\n",
    "    my_list.append(n)\n",
    "    return sorted(my_list)"
   ]
  },
  {
   "cell_type": "code",
   "execution_count": 199,
   "metadata": {},
   "outputs": [
    {
     "data": {
      "text/plain": [
       "[2, 3, 3, 3, 4, 4, 4, 5, 5, 6, 6, 7, 8, 100]"
      ]
     },
     "execution_count": 199,
     "metadata": {},
     "output_type": "execute_result"
    }
   ],
   "source": [
    "my_list = [6,3,4,2,6,3,4,7,4,5,8,3,5]\n",
    "InsertLst(my_list, 100)"
   ]
  },
  {
   "cell_type": "code",
   "execution_count": 200,
   "metadata": {},
   "outputs": [],
   "source": [
    "def intertlist(my_list, n):\n",
    "    for i in my_list:\n",
    "        \n",
    "            "
   ]
  },
  {
   "cell_type": "code",
   "execution_count": 205,
   "metadata": {},
   "outputs": [
    {
     "data": {
      "text/plain": [
       "[5]"
      ]
     },
     "execution_count": 205,
     "metadata": {},
     "output_type": "execute_result"
    }
   ],
   "source": [
    "list1=[]\n",
    "list1.append(5)\n",
    "list1"
   ]
  },
  {
   "cell_type": "code",
   "execution_count": 206,
   "metadata": {},
   "outputs": [],
   "source": [
    "def removedup(sorted_list):\n",
    "    res=[]\n",
    "    for i in sorted_list:\n",
    "        if i not in res:\n",
    "            res.append(i)\n",
    "    return res"
   ]
  },
  {
   "cell_type": "code",
   "execution_count": 208,
   "metadata": {},
   "outputs": [
    {
     "data": {
      "text/plain": [
       "[2, 3, 4, 5, 6, 7, 8, 100]"
      ]
     },
     "execution_count": 208,
     "metadata": {},
     "output_type": "execute_result"
    }
   ],
   "source": [
    "removedup(sorted(my_list))"
   ]
  },
  {
   "cell_type": "markdown",
   "metadata": {},
   "source": [
    "## Merge Two Sorted Lists\n",
    "\n",
    "Description\n",
    "\n",
    "Build a function MergeSorted which merges two sorted lists as one sorted list.\n",
    "\n",
    "Examples\n",
    "\n",
    "MergeSorted([1, 3, 5], [2, 4, 6]) returns [1, 2, 3, 4, 5, 6]\n",
    "\n",
    "MergeSorted([1, 2, 3], [4, 5, 6]) returns [1, 2, 3, 4, 5, 6]"
   ]
  },
  {
   "cell_type": "code",
   "execution_count": 209,
   "metadata": {},
   "outputs": [],
   "source": [
    "def mergelists(list_a, list_b):\n",
    "    list_c = list_a + list_b\n",
    "    new_list = []\n",
    "    while list_c:\n",
    "        minm = list_c[0]\n",
    "        for i in list_c:\n",
    "            if minm > i:\n",
    "                minm = i\n",
    "        new_list.append(minm)\n",
    "        list_c.remove(minm)\n",
    "    return new_list"
   ]
  },
  {
   "cell_type": "code",
   "execution_count": 75,
   "metadata": {},
   "outputs": [
    {
     "ename": "NameError",
     "evalue": "name 'mergelists' is not defined",
     "output_type": "error",
     "traceback": [
      "\u001b[0;31m---------------------------------------------------------------------------\u001b[0m",
      "\u001b[0;31mNameError\u001b[0m                                 Traceback (most recent call last)",
      "\u001b[0;32m<ipython-input-75-cee28b277452>\u001b[0m in \u001b[0;36m<module>\u001b[0;34m\u001b[0m\n\u001b[1;32m      2\u001b[0m \u001b[0mlist_b\u001b[0m \u001b[0;34m=\u001b[0m \u001b[0;34m[\u001b[0m\u001b[0;36m5\u001b[0m\u001b[0;34m,\u001b[0m\u001b[0;36m3\u001b[0m\u001b[0;34m,\u001b[0m\u001b[0;36m4\u001b[0m\u001b[0;34m,\u001b[0m\u001b[0;36m7\u001b[0m\u001b[0;34m,\u001b[0m\u001b[0;36m5\u001b[0m\u001b[0;34m,\u001b[0m\u001b[0;36m2\u001b[0m\u001b[0;34m,\u001b[0m\u001b[0;36m4\u001b[0m\u001b[0;34m,\u001b[0m\u001b[0;36m6\u001b[0m\u001b[0;34m]\u001b[0m\u001b[0;34m\u001b[0m\u001b[0;34m\u001b[0m\u001b[0m\n\u001b[1;32m      3\u001b[0m \u001b[0;34m\u001b[0m\u001b[0m\n\u001b[0;32m----> 4\u001b[0;31m \u001b[0mmergelists\u001b[0m\u001b[0;34m(\u001b[0m\u001b[0mlist_a\u001b[0m\u001b[0;34m,\u001b[0m \u001b[0mlist_b\u001b[0m\u001b[0;34m)\u001b[0m\u001b[0;34m\u001b[0m\u001b[0;34m\u001b[0m\u001b[0m\n\u001b[0m",
      "\u001b[0;31mNameError\u001b[0m: name 'mergelists' is not defined"
     ]
    }
   ],
   "source": [
    "list_a = [3,2,4,5,2,4,6]\n",
    "list_b = [5,3,4,7,5,2,4,6]\n",
    "\n",
    "mergelists(list_a, list_b)"
   ]
  },
  {
   "cell_type": "markdown",
   "metadata": {},
   "source": [
    "## List to Number\n",
    "\n",
    "Description\n",
    "\n",
    "Build a function Lst2Num which convert a number list into one number.\n",
    "\n",
    "Examples\n",
    "\n",
    "Lst2Num([1, 3, 5]) returns 135\n",
    "\n",
    "Lst2Num([0, 1, 2, 0, 3]) returns 1203"
   ]
  },
  {
   "cell_type": "code",
   "execution_count": 79,
   "metadata": {},
   "outputs": [],
   "source": [
    "def list2num(my_list):\n",
    "    s=''\n",
    "    for i in my_list:\n",
    "        s = s + str(i)\n",
    "    return int(s)    "
   ]
  },
  {
   "cell_type": "code",
   "execution_count": 80,
   "metadata": {},
   "outputs": [
    {
     "data": {
      "text/plain": [
       "942"
      ]
     },
     "execution_count": 80,
     "metadata": {},
     "output_type": "execute_result"
    }
   ],
   "source": [
    "list2num([0, 9, 4,2])"
   ]
  },
  {
   "cell_type": "code",
   "execution_count": 77,
   "metadata": {},
   "outputs": [],
   "source": [
    "def list2num(my_list):\n",
    "    s=''.join(my_list)\n",
    "    return s\n"
   ]
  },
  {
   "cell_type": "code",
   "execution_count": 81,
   "metadata": {},
   "outputs": [
    {
     "data": {
      "text/plain": [
       "53475246"
      ]
     },
     "execution_count": 81,
     "metadata": {},
     "output_type": "execute_result"
    }
   ],
   "source": [
    "list2num(list_b)"
   ]
  },
  {
   "cell_type": "code",
   "execution_count": 241,
   "metadata": {},
   "outputs": [],
   "source": [
    "s='love'\n",
    "m='you'"
   ]
  },
  {
   "cell_type": "markdown",
   "metadata": {},
   "source": [
    "## Maximum Stock Gain\n",
    "\n",
    "Description\n",
    "\n",
    "Build a function MaxGain to find the maximum you can gain by buying and selling stocks. \n",
    "\n",
    "The strock prices represented as a list of numbers. You need to buy stocks before you sell them.\n",
    "\n",
    "Examples\n",
    "\n",
    "MaxGain([3, 4, 1, 5, 7, 2]) returns 6 --Explanation: Buy stocks when the price is 1 and sell them when the price is 7.\n",
    "\n",
    "MaxGain([5, 4, 3, 2, 1]) returns 0"
   ]
  },
  {
   "cell_type": "code",
   "execution_count": 253,
   "metadata": {},
   "outputs": [],
   "source": [
    "def MaxGian(stock):\n",
    "    maxgain=0\n",
    "    for i in range(len(stock)):\n",
    "        for j in range(i+1, len(stock)):\n",
    "            gain = stock[j] - stock[i]\n",
    "            if gain > maxgain:\n",
    "                maxgain = gain\n",
    "    return maxgain"
   ]
  },
  {
   "cell_type": "code",
   "execution_count": 254,
   "metadata": {},
   "outputs": [
    {
     "data": {
      "text/plain": [
       "6"
      ]
     },
     "execution_count": 254,
     "metadata": {},
     "output_type": "execute_result"
    }
   ],
   "source": [
    "MaxGian([3,4,1,5,7,2])"
   ]
  },
  {
   "cell_type": "markdown",
   "metadata": {},
   "source": [
    "## Sort List of Lists\n",
    "\n",
    "Description\n",
    "\n",
    "Build a function SortLL which sorts a list of lists by their last elements.\n",
    "\n",
    "Examples\n",
    "\n",
    "SortLL([[1, 3, 5], [2, 4], [9, 7], [3]]) returns [[3], [2, 4], [1, 3, 5], [9, 7]]"
   ]
  },
  {
   "cell_type": "code",
   "execution_count": 609,
   "metadata": {},
   "outputs": [],
   "source": [
    "def SortLL(ll):\n",
    "    hashmap = {}\n",
    "    for l in ll:\n",
    "        hashmap[l[-1]] = l\n",
    "    hashmap = sorted(hashmap.items())\n",
    "    new_list = []\n",
    "    for i in range(len(hashmap)):\n",
    "        new_list.append(hashmap[i][1])\n",
    "    return new_list"
   ]
  },
  {
   "cell_type": "code",
   "execution_count": 610,
   "metadata": {},
   "outputs": [],
   "source": [
    "hm = SortLL([[1, 3, 5], [2, 4], [1, 1], [3]])"
   ]
  },
  {
   "cell_type": "code",
   "execution_count": 611,
   "metadata": {},
   "outputs": [
    {
     "data": {
      "text/plain": [
       "[[1, 1], [3], [2, 4], [1, 3, 5]]"
      ]
     },
     "execution_count": 611,
     "metadata": {},
     "output_type": "execute_result"
    }
   ],
   "source": [
    "hm"
   ]
  },
  {
   "cell_type": "code",
   "execution_count": 335,
   "metadata": {},
   "outputs": [],
   "source": [
    "def sll(ll):\n",
    "    ll.sort(key=lambda x: x[-1])\n",
    "    print(ll)"
   ]
  },
  {
   "cell_type": "code",
   "execution_count": 336,
   "metadata": {},
   "outputs": [
    {
     "name": "stdout",
     "output_type": "stream",
     "text": [
      "[[1, 1], [3], [2, 4], [1, 3, 5]]\n"
     ]
    }
   ],
   "source": [
    "ll = [[1, 3, 5], [2, 4], [1, 1], [3]]\n",
    "\n",
    "ll.sort(key=lambda x:x[-1])\n",
    "print(ll)"
   ]
  },
  {
   "cell_type": "code",
   "execution_count": 337,
   "metadata": {},
   "outputs": [
    {
     "name": "stdout",
     "output_type": "stream",
     "text": [
      "[[1, 1], [3], [2, 4], [1, 3, 5]]\n"
     ]
    }
   ],
   "source": [
    "sll(ll)"
   ]
  },
  {
   "cell_type": "code",
   "execution_count": 341,
   "metadata": {},
   "outputs": [
    {
     "name": "stdout",
     "output_type": "stream",
     "text": [
      "[[1, 1], [1, 3, 5], [2, 4], [3]]\n"
     ]
    }
   ],
   "source": [
    "print(sorted(ll))"
   ]
  },
  {
   "cell_type": "code",
   "execution_count": 342,
   "metadata": {},
   "outputs": [
    {
     "name": "stdout",
     "output_type": "stream",
     "text": [
      "[[1, 1], [1, 3, 5], [2, 4], [3]]\n"
     ]
    }
   ],
   "source": [
    "ll.sort()\n",
    "print(ll)"
   ]
  },
  {
   "cell_type": "markdown",
   "metadata": {},
   "source": [
    "## Pascals Triangle\n",
    "\n",
    "22.Pascals Triangle\n",
    "\n",
    "Description\n",
    "\n",
    "Build a function PascalsT which takes an integer n as an input and generate a n layer Pascals Triangle.\n",
    "\n",
    "Examples\n",
    "\n",
    "PascalsT(3) returns [[1], [1, 1], [1, 2, 1]]\n",
    "\n",
    "PascalsT(5) returns [[1], [1, 1], [1, 2, 1], [1, 3, 3, 1], [1, 4, 6, 4, 1]]"
   ]
  },
  {
   "cell_type": "code",
   "execution_count": 546,
   "metadata": {},
   "outputs": [],
   "source": [
    "def Pascal(n):\n",
    "    res = []\n",
    "    trow = [1]\n",
    "    y = [0]\n",
    "    for x in range(max(n,0)):\n",
    "        res.append(trow)\n",
    "        trow = [l + r for l, r in zip(trow + y, y+ trow)]\n",
    "    return res"
   ]
  },
  {
   "cell_type": "code",
   "execution_count": 548,
   "metadata": {},
   "outputs": [
    {
     "data": {
      "text/plain": [
       "[[1], [1, 1], [1, 2, 1]]"
      ]
     },
     "execution_count": 548,
     "metadata": {},
     "output_type": "execute_result"
    }
   ],
   "source": [
    "Pascal(3)"
   ]
  },
  {
   "cell_type": "code",
   "execution_count": null,
   "metadata": {},
   "outputs": [],
   "source": []
  },
  {
   "cell_type": "markdown",
   "metadata": {},
   "source": [
    "# All Red\n",
    "\n",
    "Description\n",
    "\n",
    "Build a function AllRed that takes a list of strings as input, returns a boolean indicating whether all the strings containing word \"red\".\n",
    "\n",
    "Examples\n",
    "\n",
    "AllRed([\"red hat\", \"a pair of red shoes\", \"three red apples\"]) returns True\n",
    "\n",
    "AllRed([\"red hat\", \"white shirt\", \"black eyes\"]) returns False\n",
    "\n",
    "AllRed([]) returns False"
   ]
  },
  {
   "cell_type": "code",
   "execution_count": 351,
   "metadata": {},
   "outputs": [],
   "source": [
    "def AllRed(list_str):\n",
    "    if not list_str:\n",
    "        return False\n",
    "    n = 0\n",
    "    for str_ in list_str:\n",
    "        red = 'red'\n",
    "        if red in str_:\n",
    "            n += 1\n",
    "    if len(list_str) == n:\n",
    "        return True\n",
    "    else:\n",
    "        return False\n",
    "            "
   ]
  },
  {
   "cell_type": "code",
   "execution_count": 352,
   "metadata": {},
   "outputs": [
    {
     "data": {
      "text/plain": [
       "True"
      ]
     },
     "execution_count": 352,
     "metadata": {},
     "output_type": "execute_result"
    }
   ],
   "source": [
    "AllRed([\"red hat\", \"a pair of red shoes\", \"three red apples\"])"
   ]
  },
  {
   "cell_type": "code",
   "execution_count": 353,
   "metadata": {},
   "outputs": [
    {
     "data": {
      "text/plain": [
       "False"
      ]
     },
     "execution_count": 353,
     "metadata": {},
     "output_type": "execute_result"
    }
   ],
   "source": [
    "AllRed([\"red hat\", \"white shirt\", \"black eyes\"])"
   ]
  },
  {
   "cell_type": "code",
   "execution_count": 354,
   "metadata": {},
   "outputs": [
    {
     "data": {
      "text/plain": [
       "False"
      ]
     },
     "execution_count": 354,
     "metadata": {},
     "output_type": "execute_result"
    }
   ],
   "source": [
    "AllRed([])"
   ]
  },
  {
   "cell_type": "markdown",
   "metadata": {},
   "source": [
    "## Reverse Sentence\n",
    "\n",
    "Description\n",
    "\n",
    "Build a function RevSen to reverse a sentence.\n",
    "\n",
    "Examples\n",
    "\n",
    "RevSen(\"we are all friends\") returns \"friends all are we”"
   ]
  },
  {
   "cell_type": "code",
   "execution_count": 364,
   "metadata": {},
   "outputs": [],
   "source": [
    "def RevSen(str_):\n",
    "    # change to list\n",
    "    l = str_.split()\n",
    "    l = l[::-1]\n",
    "    # back to string\n",
    "    ns = ' '.join(l)\n",
    "    return ns  \n"
   ]
  },
  {
   "cell_type": "code",
   "execution_count": 356,
   "metadata": {},
   "outputs": [
    {
     "data": {
      "text/plain": [
       "['we', 'are', 'all', 'friends']"
      ]
     },
     "execution_count": 356,
     "metadata": {},
     "output_type": "execute_result"
    }
   ],
   "source": [
    "stra = 'we are all friends'\n",
    "stra.split()"
   ]
  },
  {
   "cell_type": "code",
   "execution_count": 358,
   "metadata": {},
   "outputs": [
    {
     "data": {
      "text/plain": [
       "'friends all are we'"
      ]
     },
     "execution_count": 358,
     "metadata": {},
     "output_type": "execute_result"
    }
   ],
   "source": [
    "RevSen(stra)"
   ]
  },
  {
   "cell_type": "code",
   "execution_count": 359,
   "metadata": {},
   "outputs": [],
   "source": [
    "s ='i love seattle when it is sunny'\n",
    "l = s.split()"
   ]
  },
  {
   "cell_type": "code",
   "execution_count": 363,
   "metadata": {},
   "outputs": [
    {
     "data": {
      "text/plain": [
       "'sunny is it when seattle love i'"
      ]
     },
     "execution_count": 363,
     "metadata": {},
     "output_type": "execute_result"
    }
   ],
   "source": [
    "' '.join(l[::-1])"
   ]
  },
  {
   "cell_type": "markdown",
   "metadata": {},
   "source": [
    "## Reverse Words\n",
    "\n",
    "Description\n",
    "\n",
    "Build a function RevWords to reverse each word of a sentence.\n",
    "\n",
    "Examples\n",
    "\n",
    "RevWords(\"we are all friends\") returns \"ew era lla sdneirf\""
   ]
  },
  {
   "cell_type": "code",
   "execution_count": 369,
   "metadata": {},
   "outputs": [],
   "source": [
    "def RevWords(string):\n",
    "    l = string.split()\n",
    "    n_l = []\n",
    "    for i in l:\n",
    "        j = i[::-1]\n",
    "        n_l.append(j)\n",
    "    ns = ' '.join(n_l)\n",
    "    return ns"
   ]
  },
  {
   "cell_type": "code",
   "execution_count": 370,
   "metadata": {},
   "outputs": [
    {
     "data": {
      "text/plain": [
       "'ew era lla sdneirf'"
      ]
     },
     "execution_count": 370,
     "metadata": {},
     "output_type": "execute_result"
    }
   ],
   "source": [
    "RevWords(\"we are all friends\")"
   ]
  },
  {
   "cell_type": "markdown",
   "metadata": {},
   "source": [
    "## Capitalize First Letters\n",
    "\n",
    "Description\n",
    "\n",
    "Build a function CapLett to capitalize the first letter of each word in a sentence.\n",
    "\n",
    "Examples\n",
    "\n",
    "CapLett(\"we are all friends\") returns \"We Are All Friends\""
   ]
  },
  {
   "cell_type": "code",
   "execution_count": 374,
   "metadata": {},
   "outputs": [],
   "source": [
    "def CapLett(string):\n",
    "    return string.title()"
   ]
  },
  {
   "cell_type": "code",
   "execution_count": 375,
   "metadata": {},
   "outputs": [
    {
     "data": {
      "text/plain": [
       "'We Are All Friends'"
      ]
     },
     "execution_count": 375,
     "metadata": {},
     "output_type": "execute_result"
    }
   ],
   "source": [
    "CapLett(\"we are all friends\")"
   ]
  },
  {
   "cell_type": "code",
   "execution_count": 379,
   "metadata": {},
   "outputs": [
    {
     "ename": "AttributeError",
     "evalue": "'str' object has no attribute 'punctuation'",
     "output_type": "error",
     "traceback": [
      "\u001b[0;31m---------------------------------------------------------------------------\u001b[0m",
      "\u001b[0;31mAttributeError\u001b[0m                            Traceback (most recent call last)",
      "\u001b[0;32m<ipython-input-379-40a6dd955c0d>\u001b[0m in \u001b[0;36m<module>\u001b[0;34m\u001b[0m\n\u001b[1;32m      1\u001b[0m \u001b[0ms\u001b[0m \u001b[0;34m=\u001b[0m \u001b[0;34m'I, thought, \"oh yes!\"'\u001b[0m\u001b[0;34m\u001b[0m\u001b[0;34m\u001b[0m\u001b[0m\n\u001b[0;32m----> 2\u001b[0;31m \u001b[0ms\u001b[0m\u001b[0;34m.\u001b[0m\u001b[0mtranslate\u001b[0m\u001b[0;34m(\u001b[0m\u001b[0;32mNone\u001b[0m\u001b[0;34m,\u001b[0m \u001b[0ms\u001b[0m\u001b[0;34m.\u001b[0m\u001b[0mpunctuation\u001b[0m\u001b[0;34m)\u001b[0m\u001b[0;34m\u001b[0m\u001b[0;34m\u001b[0m\u001b[0m\n\u001b[0m",
      "\u001b[0;31mAttributeError\u001b[0m: 'str' object has no attribute 'punctuation'"
     ]
    }
   ],
   "source": [
    "s = 'I, thought, \"oh yes!\"'\n",
    "s.translate(None, s.punctuation)"
   ]
  },
  {
   "cell_type": "markdown",
   "metadata": {},
   "source": [
    "# N Grams\n",
    "\n",
    "Description\n",
    "\n",
    "Build a function NGram which takes a string s and an integer n as inputs, returns a list of n grams of s.\n",
    "\n",
    "Examples\n",
    "\n",
    "NGram(\"techlent\", 2) returns [\"te\", \"ec\", \"ch\", \"hl\", \"le\", \"en\", \"nt\"]\n",
    "\n",
    "NGram(\"abc\", 3) returns [\"abc\"]\n",
    "\n",
    "NGram(\"abc\", 4) returns [   ]\n",
    "\n",
    "NGram(\"abc\", 1) returns [\"a\", \"b\", \"c\"]"
   ]
  },
  {
   "cell_type": "code",
   "execution_count": 433,
   "metadata": {},
   "outputs": [],
   "source": [
    "def NGram(s, n):\n",
    "    ln=[]\n",
    "    for i in range(len(s)-n+1):\n",
    "        ln.append(s[i:i+n])\n",
    "    return ln "
   ]
  },
  {
   "cell_type": "code",
   "execution_count": 434,
   "metadata": {},
   "outputs": [
    {
     "data": {
      "text/plain": [
       "['tec', 'ech', 'chl', 'hle', 'len', 'ent']"
      ]
     },
     "execution_count": 434,
     "metadata": {},
     "output_type": "execute_result"
    }
   ],
   "source": [
    "NGram(\"techlent\", 3)"
   ]
  },
  {
   "cell_type": "code",
   "execution_count": 435,
   "metadata": {},
   "outputs": [
    {
     "data": {
      "text/plain": [
       "'tec'"
      ]
     },
     "execution_count": 435,
     "metadata": {},
     "output_type": "execute_result"
    }
   ],
   "source": [
    "s[0:3]"
   ]
  },
  {
   "cell_type": "markdown",
   "metadata": {},
   "source": [
    "## Palindrome\n",
    "\n",
    "Description\n",
    "\n",
    "Build a function isPalindrome which takes a string as an input and returns boolin value telling whether the string is a palindrome.\n",
    "\n",
    "Examples\n",
    "\n",
    "isPalindrome(\"abcba\") returns True\n",
    "\n",
    "isPalindrome(\"abba\") returns True\n",
    "\n",
    "isPalindrome(\"a\") returns True\n",
    "\n",
    "isPalindrome(\"\") returns True\n",
    "\n",
    "isPalindrome(\"abcd\") returns False"
   ]
  },
  {
   "cell_type": "code",
   "execution_count": 439,
   "metadata": {},
   "outputs": [],
   "source": [
    "def isPalindrome(s):\n",
    "    if s == s[::-1]:\n",
    "        return True\n",
    "    else:\n",
    "        return False"
   ]
  },
  {
   "cell_type": "code",
   "execution_count": 440,
   "metadata": {},
   "outputs": [
    {
     "data": {
      "text/plain": [
       "True"
      ]
     },
     "execution_count": 440,
     "metadata": {},
     "output_type": "execute_result"
    }
   ],
   "source": [
    "isPalindrome(\"abcba\")"
   ]
  },
  {
   "cell_type": "code",
   "execution_count": 441,
   "metadata": {},
   "outputs": [
    {
     "data": {
      "text/plain": [
       "False"
      ]
     },
     "execution_count": 441,
     "metadata": {},
     "output_type": "execute_result"
    }
   ],
   "source": [
    "isPalindrome(\"abcd\")"
   ]
  },
  {
   "cell_type": "markdown",
   "metadata": {},
   "source": [
    "## Letter Palindrome\n",
    "\n",
    "Description\n",
    "\n",
    "Build a function LettPalind to determine a string is a palindrome or not. We only consider letters this time.\n",
    "\n",
    "Examples\n",
    "\n",
    "LettPalind(\"909@,.\") returns True\n",
    "\n",
    "LettPalind(\"He is Sieh!\") returns True\n",
    "\n",
    "LettPalind(\"His name is Sieh.\") returns False"
   ]
  },
  {
   "cell_type": "code",
   "execution_count": 468,
   "metadata": {},
   "outputs": [],
   "source": [
    "def LettPalind(s):\n",
    "    punc = '''!()-[]{};:'\"\\, <>./?@#$%^&*_~'''\n",
    "    l = []\n",
    "    for i in s.lower():\n",
    "        if i not in punc and i != ' ':\n",
    "            l.append(i)\n",
    "    if l == l[::-1]:\n",
    "        return True\n",
    "    else:\n",
    "        return False"
   ]
  },
  {
   "cell_type": "code",
   "execution_count": 469,
   "metadata": {},
   "outputs": [
    {
     "data": {
      "text/plain": [
       "True"
      ]
     },
     "execution_count": 469,
     "metadata": {},
     "output_type": "execute_result"
    }
   ],
   "source": [
    "LettPalind(\"909@,.\")"
   ]
  },
  {
   "cell_type": "code",
   "execution_count": 470,
   "metadata": {},
   "outputs": [
    {
     "data": {
      "text/plain": [
       "True"
      ]
     },
     "execution_count": 470,
     "metadata": {},
     "output_type": "execute_result"
    }
   ],
   "source": [
    "LettPalind(\"He is Sieh!\") "
   ]
  },
  {
   "cell_type": "code",
   "execution_count": 472,
   "metadata": {},
   "outputs": [
    {
     "data": {
      "text/plain": [
       "False"
      ]
     },
     "execution_count": 472,
     "metadata": {},
     "output_type": "execute_result"
    }
   ],
   "source": [
    "LettPalind(\"His name is Sieh.\")"
   ]
  },
  {
   "cell_type": "markdown",
   "metadata": {},
   "source": [
    "## Valid Parenthesis\n",
    "\n",
    "Description\n",
    "\n",
    "Build a function ValidParenthesis to determine the parenthesis in a string are valid.\n",
    "\n",
    "Examples\n",
    "\n",
    "ValidParenthesis(\"((()))()\") returns True\n",
    "\n",
    "ValidParenthesis(\"()()()\") returns True\n",
    "\n",
    "ValidParenthesis(\"()()()()\") returns False\n",
    "\n",
    "ValidParenthesis(\"((())))\") returns False"
   ]
  },
  {
   "cell_type": "code",
   "execution_count": null,
   "metadata": {},
   "outputs": [],
   "source": [
    "def ValidParenthesis(s):\n",
    "    for i in range(len(s)):\n",
    "        if "
   ]
  },
  {
   "cell_type": "markdown",
   "metadata": {},
   "source": [
    "## Rank Keys by Values\n",
    "\n",
    "Description\n",
    "\n",
    "Build a function RankK which takes a dictionary as input returns a list of keys which sorted by their values.\n",
    "\n",
    "Examples\n",
    "\n",
    "RankK({\"a\": 7, \"b\": 5, \"c\": 9}) returns [\"b\", \"a\", \"c\"]"
   ]
  },
  {
   "cell_type": "code",
   "execution_count": 71,
   "metadata": {},
   "outputs": [],
   "source": [
    "def RankK(d):\n",
    "    d_sorted = sorted(d.items(), key=lambda x:x[1])\n",
    "    res=[]\n",
    "    for i in d_sorted:\n",
    "        res.append(i[0])\n",
    "    return res"
   ]
  },
  {
   "cell_type": "code",
   "execution_count": 72,
   "metadata": {},
   "outputs": [
    {
     "data": {
      "text/plain": [
       "['b', 'a', 'c']"
      ]
     },
     "execution_count": 72,
     "metadata": {},
     "output_type": "execute_result"
    }
   ],
   "source": [
    "RankK({\"a\": 7, \"b\": 5, \"c\": 9})"
   ]
  },
  {
   "cell_type": "code",
   "execution_count": 483,
   "metadata": {},
   "outputs": [],
   "source": [
    "def RankK(d):\n",
    "    ds = sorted(d.items(), key=lambda x:x[0])\n",
    "    l = []\n",
    "    for i in ds:\n",
    "        l.append(i[0])\n",
    "    return l"
   ]
  },
  {
   "cell_type": "code",
   "execution_count": 484,
   "metadata": {},
   "outputs": [
    {
     "data": {
      "text/plain": [
       "['a', 'b', 'c']"
      ]
     },
     "execution_count": 484,
     "metadata": {},
     "output_type": "execute_result"
    }
   ],
   "source": [
    "RankK({\"a\": 7, \"b\": 5, \"c\": 9})"
   ]
  },
  {
   "cell_type": "markdown",
   "metadata": {},
   "source": [
    "## Character Frequency\n",
    "\n",
    "Description\n",
    "\n",
    "Build a function ChaFreq to calculate the frequencies of characters in a string. Store the results in a dictionary.\n",
    "\n",
    "Examples\n",
    "\n",
    "ChaFreq(\"techlent\") returns {\"c\": 1, \"e\": 2, \"h\": 1, \"l\": 1, \"n\": 1, \"t\": 2}"
   ]
  },
  {
   "cell_type": "code",
   "execution_count": 485,
   "metadata": {},
   "outputs": [],
   "source": [
    "def ChaFreq(s):\n",
    "    hashmap={}\n",
    "    for c in s:\n",
    "        if c not in hashmap:\n",
    "            hashmap[c] = 1\n",
    "        else:\n",
    "            hashmap[c] += 1\n",
    "    return hashmap"
   ]
  },
  {
   "cell_type": "code",
   "execution_count": 488,
   "metadata": {},
   "outputs": [
    {
     "data": {
      "text/plain": [
       "{'a': 3, 'b': 3, 'c': 2, 'y': 2}"
      ]
     },
     "execution_count": 488,
     "metadata": {},
     "output_type": "execute_result"
    }
   ],
   "source": [
    "ChaFreq('aaabbbccyy')"
   ]
  },
  {
   "cell_type": "markdown",
   "metadata": {},
   "source": [
    "## Unique Only\n",
    "\n",
    "Description\n",
    "\n",
    "Build a function UniqueOnly to detect whether a string only contains unique characters.\n",
    "\n",
    "Examples\n",
    "\n",
    "UniqueOnly(\"techlent\") returns False\n",
    "\n",
    "UniqueOnly(\"abcde\") returns True"
   ]
  },
  {
   "cell_type": "code",
   "execution_count": 489,
   "metadata": {},
   "outputs": [],
   "source": [
    "def UniqueOnly(s):\n",
    "    hashmap = {}\n",
    "    for c in s:\n",
    "        if c not in hashmap:\n",
    "            hashmap[c] = 1\n",
    "        else:\n",
    "            hashmap[c] += 1\n",
    "    for i in hashmap.values():\n",
    "        if i >1:\n",
    "            return False\n",
    "        else: return True"
   ]
  },
  {
   "cell_type": "code",
   "execution_count": 490,
   "metadata": {},
   "outputs": [
    {
     "data": {
      "text/plain": [
       "False"
      ]
     },
     "execution_count": 490,
     "metadata": {},
     "output_type": "execute_result"
    }
   ],
   "source": [
    "UniqueOnly(\"techlent\") "
   ]
  },
  {
   "cell_type": "code",
   "execution_count": 491,
   "metadata": {},
   "outputs": [
    {
     "data": {
      "text/plain": [
       "True"
      ]
     },
     "execution_count": 491,
     "metadata": {},
     "output_type": "execute_result"
    }
   ],
   "source": [
    "UniqueOnly(\"abcde\") "
   ]
  },
  {
   "cell_type": "markdown",
   "metadata": {},
   "source": [
    "## Same Pattern\n",
    "\n",
    "Description\n",
    "\n",
    "Build a function SamePattern takes two strings as inputs and determines whether they are in the same pattern.\n",
    "\n",
    "Examples\n",
    "\n",
    "SamePattern(\"egg\", \"zoo\") returns True\n",
    "\n",
    "SamePattern(\"abb\", \"ab\") returns False\n",
    "\n",
    "SamePattern(\"hello\", \"agree\") returns False\n",
    "\n",
    "SamePattern(\"aaa\", \"abc\") returns False\n",
    "\n",
    "SamePattern(\"abc\", \"aaa\") returns False"
   ]
  },
  {
   "cell_type": "code",
   "execution_count": 584,
   "metadata": {},
   "outputs": [],
   "source": [
    "def SamePattern(sa, sb):\n",
    "    hashmap_a = {}\n",
    "    hashmap_b = {}\n",
    "    for a in sa:\n",
    "        if a not in hashmap_a:\n",
    "            hashmap_a[a] = 1\n",
    "        else:\n",
    "            hashmap_a[a] += 1\n",
    "    for b in sb:\n",
    "        if b not in hashmap_b:\n",
    "            hashmap_b[b] = 1\n",
    "        else:\n",
    "            hashmap_b[b] += 1\n",
    "    \n",
    "    la = []\n",
    "    for i in hashmap_a.values():\n",
    "        la.append(i)\n",
    "    lb = []\n",
    "    for i in hashmap_b.values():\n",
    "        lb.append(i)\n",
    "    if la == lb:\n",
    "        return True\n",
    "    else:\n",
    "        return False\n",
    "        \n",
    "#     return True\n"
   ]
  },
  {
   "cell_type": "code",
   "execution_count": 585,
   "metadata": {},
   "outputs": [
    {
     "data": {
      "text/plain": [
       "True"
      ]
     },
     "execution_count": 585,
     "metadata": {},
     "output_type": "execute_result"
    }
   ],
   "source": [
    "SamePattern(\"egg\", \"zoo\") "
   ]
  },
  {
   "cell_type": "code",
   "execution_count": 586,
   "metadata": {},
   "outputs": [
    {
     "data": {
      "text/plain": [
       "False"
      ]
     },
     "execution_count": 586,
     "metadata": {},
     "output_type": "execute_result"
    }
   ],
   "source": [
    "SamePattern(\"abb\", \"ab\") "
   ]
  },
  {
   "cell_type": "code",
   "execution_count": 588,
   "metadata": {},
   "outputs": [
    {
     "data": {
      "text/plain": [
       "True"
      ]
     },
     "execution_count": 588,
     "metadata": {},
     "output_type": "execute_result"
    }
   ],
   "source": [
    "SamePattern(\"hello\", \"agrre\") "
   ]
  },
  {
   "cell_type": "code",
   "execution_count": 532,
   "metadata": {},
   "outputs": [
    {
     "data": {
      "text/plain": [
       "True"
      ]
     },
     "execution_count": 532,
     "metadata": {},
     "output_type": "execute_result"
    }
   ],
   "source": [
    "SamePattern(\"hello\", \"agree\")"
   ]
  },
  {
   "cell_type": "markdown",
   "metadata": {},
   "source": [
    "## Target Sum\n",
    "\n",
    "Description\n",
    "\n",
    "Build a function TargetSum which takes a list and a target number as inputs. If there are two numbers in the list whose sum equals to the target number, the function returns the indice of the two numbers in list, otherwise returns -1.\n",
    "\n",
    "Examples\n",
    "\n",
    "TargetSum([1, 2, 5, 9, 8, 11], 6) returns [0, 2] (1+5=6)\n",
    "\n",
    "TargetSum([1, 2, 5, 9, 8, 11], 11) returns [1, 3]\n",
    "\n",
    "TargetSum([1, 2, 5, 9, 8, 11], 5) returns -1\n",
    "\n",
    "TargetSum([1, 2, 5, 9, 8, 11], 14) returns [2, 3]"
   ]
  },
  {
   "cell_type": "code",
   "execution_count": 533,
   "metadata": {},
   "outputs": [],
   "source": [
    "def TargetSum(l, n):\n",
    "    for i in range(len(l)):\n",
    "        for j in range(i, len(l)):\n",
    "            if l[i] + l[j] == n:\n",
    "                return [i, j]\n",
    "    return -1\n",
    "        "
   ]
  },
  {
   "cell_type": "code",
   "execution_count": 534,
   "metadata": {},
   "outputs": [
    {
     "data": {
      "text/plain": [
       "[0, 2]"
      ]
     },
     "execution_count": 534,
     "metadata": {},
     "output_type": "execute_result"
    }
   ],
   "source": [
    "TargetSum([1, 2, 5, 9, 8, 11], 6)"
   ]
  },
  {
   "cell_type": "code",
   "execution_count": 535,
   "metadata": {},
   "outputs": [
    {
     "data": {
      "text/plain": [
       "[1, 3]"
      ]
     },
     "execution_count": 535,
     "metadata": {},
     "output_type": "execute_result"
    }
   ],
   "source": [
    "TargetSum([1, 2, 5, 9, 8, 11], 11)"
   ]
  },
  {
   "cell_type": "code",
   "execution_count": 594,
   "metadata": {},
   "outputs": [],
   "source": [
    "def moveZero(l):\n",
    "    if not l:\n",
    "        return []\n",
    "    current = 0\n",
    "    for i in range(len(l)):\n",
    "        if l[i] != 0:\n",
    "            l[current], l[i] = l[i], l[current]\n",
    "            current += 1\n",
    "    return l"
   ]
  },
  {
   "cell_type": "code",
   "execution_count": 595,
   "metadata": {},
   "outputs": [
    {
     "data": {
      "text/plain": [
       "[1, 2, 3, 3, 0, 0]"
      ]
     },
     "execution_count": 595,
     "metadata": {},
     "output_type": "execute_result"
    }
   ],
   "source": [
    "moveZero([0,1,2,3,0,3])"
   ]
  },
  {
   "cell_type": "code",
   "execution_count": 597,
   "metadata": {},
   "outputs": [
    {
     "data": {
      "text/plain": [
       "[]"
      ]
     },
     "execution_count": 597,
     "metadata": {},
     "output_type": "execute_result"
    }
   ],
   "source": [
    "moveZero([])"
   ]
  },
  {
   "cell_type": "code",
   "execution_count": 600,
   "metadata": {},
   "outputs": [],
   "source": [
    "def removeDup(l):\n",
    "    if not l:\n",
    "        return []\n",
    "    current = 0\n",
    "    for i in range(len(l)):\n",
    "        if l[i] != l[current]:\n",
    "            current += 1\n",
    "            l[current], l[i] = l[i], l[current]\n",
    "#             print(current)\n",
    "    return current+1"
   ]
  },
  {
   "cell_type": "code",
   "execution_count": 601,
   "metadata": {},
   "outputs": [
    {
     "data": {
      "text/plain": [
       "6"
      ]
     },
     "execution_count": 601,
     "metadata": {},
     "output_type": "execute_result"
    }
   ],
   "source": [
    "removeDup([1,2,2,3,3,4,5,6])"
   ]
  },
  {
   "cell_type": "code",
   "execution_count": 604,
   "metadata": {},
   "outputs": [],
   "source": [
    "def checkang(l,p):\n",
    "    if len(p) > len(l):\n",
    "        return []\n",
    "    from collections import Counter\n",
    "    pCounter = Counter(p)\n",
    "    \n",
    "    ind=[]\n",
    "    for i in range(len(l)-len(p)+1):\n",
    "        sCounter = Counter(l[i: i+len(p)])\n",
    "        if sCounter == pCounter:\n",
    "            ind.append(i)\n",
    "    return ind\n",
    "            "
   ]
  },
  {
   "cell_type": "code",
   "execution_count": 606,
   "metadata": {},
   "outputs": [
    {
     "data": {
      "text/plain": [
       "[0, 6]"
      ]
     },
     "execution_count": 606,
     "metadata": {},
     "output_type": "execute_result"
    }
   ],
   "source": [
    "checkang('abcdgrbca', 'abc')"
   ]
  },
  {
   "cell_type": "code",
   "execution_count": 65,
   "metadata": {},
   "outputs": [],
   "source": [
    "def RemoveElement(l, n):\n",
    "    if not l:\n",
    "        return []\n",
    "    current = 0\n",
    "    for i in range(len(l)):\n",
    "        if l[i] != n:\n",
    "            l[i], l[current] = l[current], l[i]\n",
    "            current +=1\n",
    "    return l[:current]"
   ]
  },
  {
   "cell_type": "code",
   "execution_count": 66,
   "metadata": {},
   "outputs": [
    {
     "data": {
      "text/plain": [
       "[1, 3, 4, 3, 4, 3]"
      ]
     },
     "execution_count": 66,
     "metadata": {},
     "output_type": "execute_result"
    }
   ],
   "source": [
    "RemoveElement([1,2,3,4,2,3,4,2,3], 2)"
   ]
  },
  {
   "cell_type": "code",
   "execution_count": 633,
   "metadata": {},
   "outputs": [],
   "source": [
    "def sum2n(l, n):\n",
    "    if not l:\n",
    "        return []\n",
    "    for i in range(len(l)):\n",
    "        for j in range(i, len(l)):\n",
    "            if l[i] + l[j] == n:\n",
    "                return [i, j]\n",
    "    return -1"
   ]
  },
  {
   "cell_type": "code",
   "execution_count": 634,
   "metadata": {},
   "outputs": [
    {
     "data": {
      "text/plain": [
       "[1, 5]"
      ]
     },
     "execution_count": 634,
     "metadata": {},
     "output_type": "execute_result"
    }
   ],
   "source": [
    "sum2n([1,2,3,4,5,6], 8)"
   ]
  },
  {
   "cell_type": "markdown",
   "metadata": {},
   "source": [
    "## Valid Parathesis"
   ]
  },
  {
   "cell_type": "code",
   "execution_count": 635,
   "metadata": {},
   "outputs": [],
   "source": [
    "class Solution(object):\n",
    "    def isValid(self, s):\n",
    "        \"\"\"\n",
    "        :type s: str\n",
    "        :rtype: bool\n",
    "        \"\"\"\n",
    "        \n",
    "        if len(s) <= 1:\n",
    "            return len(s) == 0\n",
    "        stack = []\n",
    "        dict = {'(':')', '[':']','{':'}'}\n",
    "        \n",
    "        for e in s:\n",
    "            if e in dict:\n",
    "                stack.append(e)\n",
    "            else:\n",
    "                if not stack:\n",
    "                    return False\n",
    "                if dict[stack[-1]] == e:\n",
    "                    stack.pop()\n",
    "                else:\n",
    "                    return False\n",
    "        return not len(stack)"
   ]
  },
  {
   "cell_type": "markdown",
   "metadata": {},
   "source": [
    "## Squared Root"
   ]
  },
  {
   "cell_type": "code",
   "execution_count": 638,
   "metadata": {},
   "outputs": [],
   "source": [
    "def sqrt(x):\n",
    "    last_guess= x/2.0\n",
    "    while True:\n",
    "        guess= (last_guess + x/last_guess)/2\n",
    "        if abs(guess - last_guess) < .000001: # example threshold\n",
    "            return guess\n",
    "        last_guess= guess"
   ]
  },
  {
   "cell_type": "code",
   "execution_count": 642,
   "metadata": {},
   "outputs": [],
   "source": [
    "def sqrt(x):\n",
    "    last_guess = x/2.0\n",
    "    while True:\n",
    "        guess = (last_guess + x/last_guess)/2\n",
    "        if abs(guess - last_guess) < 0.0001:\n",
    "            return guess\n",
    "        last_guess = guess"
   ]
  },
  {
   "cell_type": "code",
   "execution_count": 643,
   "metadata": {},
   "outputs": [
    {
     "data": {
      "text/plain": [
       "3.1622776604441363"
      ]
     },
     "execution_count": 643,
     "metadata": {},
     "output_type": "execute_result"
    }
   ],
   "source": [
    "sqrt(10)"
   ]
  },
  {
   "cell_type": "code",
   "execution_count": 644,
   "metadata": {},
   "outputs": [
    {
     "name": "stdout",
     "output_type": "stream",
     "text": [
      "Collecting package metadata (current_repodata.json): done\n",
      "Solving environment: done\n",
      "\n",
      "## Package Plan ##\n",
      "\n",
      "  environment location: /Users/daihongchen/opt/anaconda3/envs/learn-env\n",
      "\n",
      "  added / updated specs:\n",
      "    - pandas-profiling\n",
      "\n",
      "\n",
      "The following packages will be downloaded:\n",
      "\n",
      "    package                    |            build\n",
      "    ---------------------------|-----------------\n",
      "    pandas-profiling-1.4.1     |                0          39 KB  conda-forge\n",
      "    ------------------------------------------------------------\n",
      "                                           Total:          39 KB\n",
      "\n",
      "The following NEW packages will be INSTALLED:\n",
      "\n",
      "  pandas-profiling   conda-forge/osx-64::pandas-profiling-1.4.1-0\n",
      "\n",
      "\n",
      "\n",
      "Downloading and Extracting Packages\n",
      "pandas-profiling-1.4 | 39 KB     | ##################################### | 100% \n",
      "Preparing transaction: done\n",
      "Verifying transaction: done\n",
      "Executing transaction: done\n",
      "\n",
      "Note: you may need to restart the kernel to use updated packages.\n"
     ]
    }
   ],
   "source": [
    "conda install -c conda-forge pandas-profiling"
   ]
  },
  {
   "cell_type": "code",
   "execution_count": 1,
   "metadata": {},
   "outputs": [
    {
     "ename": "ModuleNotFoundError",
     "evalue": "No module named 'pandas_profiling'",
     "output_type": "error",
     "traceback": [
      "\u001b[0;31m---------------------------------------------------------------------------\u001b[0m",
      "\u001b[0;31mModuleNotFoundError\u001b[0m                       Traceback (most recent call last)",
      "\u001b[0;32m<ipython-input-1-e2a33329b6f0>\u001b[0m in \u001b[0;36m<module>\u001b[0;34m\u001b[0m\n\u001b[0;32m----> 1\u001b[0;31m \u001b[0;32mfrom\u001b[0m \u001b[0mpandas_profiling\u001b[0m \u001b[0;32mimport\u001b[0m \u001b[0mProfileReport\u001b[0m\u001b[0;34m\u001b[0m\u001b[0;34m\u001b[0m\u001b[0m\n\u001b[0m",
      "\u001b[0;31mModuleNotFoundError\u001b[0m: No module named 'pandas_profiling'"
     ]
    }
   ],
   "source": [
    "from pandas_profiling import ProfileReport"
   ]
  },
  {
   "cell_type": "code",
   "execution_count": 4,
   "metadata": {},
   "outputs": [],
   "source": [
    "d ={'a':1, 'b':2, 'c':3}\n",
    "\n",
    "d1={k+'x':v*3 for k, v in d.items()}"
   ]
  },
  {
   "cell_type": "code",
   "execution_count": 5,
   "metadata": {},
   "outputs": [
    {
     "data": {
      "text/plain": [
       "{'ax': 3, 'bx': 6, 'cx': 9}"
      ]
     },
     "execution_count": 5,
     "metadata": {},
     "output_type": "execute_result"
    }
   ],
   "source": [
    "d1"
   ]
  },
  {
   "cell_type": "code",
   "execution_count": 7,
   "metadata": {},
   "outputs": [
    {
     "data": {
      "text/plain": [
       "'I Love The Weather In Seattle'"
      ]
     },
     "execution_count": 7,
     "metadata": {},
     "output_type": "execute_result"
    }
   ],
   "source": [
    "s =\"i love the weather in seattle\"\n",
    "s.title()"
   ]
  },
  {
   "cell_type": "code",
   "execution_count": 8,
   "metadata": {},
   "outputs": [],
   "source": [
    "d = {'id':7, 'name':'Shiba', 'color':'brown', 'speed':'very slow'}"
   ]
  },
  {
   "cell_type": "code",
   "execution_count": 9,
   "metadata": {},
   "outputs": [
    {
     "data": {
      "text/plain": [
       "['id', 'name', 'color', 'speed']"
      ]
     },
     "execution_count": 9,
     "metadata": {},
     "output_type": "execute_result"
    }
   ],
   "source": [
    "list(d)"
   ]
  },
  {
   "cell_type": "code",
   "execution_count": 20,
   "metadata": {},
   "outputs": [
    {
     "data": {
      "text/plain": [
       "False"
      ]
     },
     "execution_count": 20,
     "metadata": {},
     "output_type": "execute_result"
    }
   ],
   "source": [
    "d.values() == d.values() "
   ]
  },
  {
   "cell_type": "code",
   "execution_count": 21,
   "metadata": {},
   "outputs": [],
   "source": [
    "def SamePattern(sa, sb):\n",
    "    hashmap_a = {}\n",
    "    hashmap_b = {}\n",
    "    for a in sa:\n",
    "        if a not in hashmap_a:\n",
    "            hashmap_a[a] = 1\n",
    "        else:\n",
    "            hashmap_a[a] += 1\n",
    "    for b in sb:\n",
    "        if b not in hashmap_b:\n",
    "            hashmap_b[b] = 1\n",
    "        else:\n",
    "            hashmap_b[b] += 1\n",
    "    \n",
    "    if list(hashmap_a.values()) == list(hashmap_b.values()):\n",
    "        return True\n",
    "    else:\n",
    "        return False"
   ]
  },
  {
   "cell_type": "code",
   "execution_count": 22,
   "metadata": {},
   "outputs": [
    {
     "data": {
      "text/plain": [
       "True"
      ]
     },
     "execution_count": 22,
     "metadata": {},
     "output_type": "execute_result"
    }
   ],
   "source": [
    "SamePattern(\"egg\", \"zoo\")"
   ]
  },
  {
   "cell_type": "code",
   "execution_count": 23,
   "metadata": {},
   "outputs": [
    {
     "data": {
      "text/plain": [
       "False"
      ]
     },
     "execution_count": 23,
     "metadata": {},
     "output_type": "execute_result"
    }
   ],
   "source": [
    "s='lkg896?'\n",
    "s.isalnum()"
   ]
  },
  {
   "cell_type": "markdown",
   "metadata": {},
   "source": [
    "## Fibonacci List\n",
    "\n",
    "Description\n",
    "\n",
    "The Fibonacci List is the list of numbers: 0, 1, 1, 2, 3, 5, 8, 13, 21, 34, … The next number is generated by adding up the two numbers before it. Build a function FibLst which takes an integer n as input and returns an n-element Fibonacci List. If n is less than 1, returns -1.\n",
    "\n",
    "Examples\n",
    "\n",
    "FibLst(1) returns [0]\n",
    "\n",
    "FibLst(3) returns [0, 1, 1]\n",
    "\n",
    "FibLst(6) returns [0, 1, 1, 2, 3, 5]\n",
    "\n",
    "FibLst(-3) returns -1"
   ]
  },
  {
   "cell_type": "code",
   "execution_count": 43,
   "metadata": {},
   "outputs": [],
   "source": [
    "def Func(n):\n",
    "    if n < 1:\n",
    "        return -1\n",
    "    elif n == 1:\n",
    "        return [0]\n",
    "    elif n == 2:\n",
    "        return [1]\n",
    "    res =[0, 1]\n",
    "    for i in range(2, n):\n",
    "        res.append(res[i-1] + res[i-2])\n",
    "    return res"
   ]
  },
  {
   "cell_type": "code",
   "execution_count": 46,
   "metadata": {},
   "outputs": [
    {
     "data": {
      "text/plain": [
       "[0, 1, 1, 2, 3, 5]"
      ]
     },
     "execution_count": 46,
     "metadata": {},
     "output_type": "execute_result"
    }
   ],
   "source": [
    "Func(6)"
   ]
  },
  {
   "cell_type": "code",
   "execution_count": 50,
   "metadata": {},
   "outputs": [],
   "source": [
    "def Func(n):\n",
    "    if n < 1:\n",
    "        return -1\n",
    "    elif n == 1:\n",
    "        return [0]\n",
    "    elif n == 2:\n",
    "        return [0,1]\n",
    "    elif n == 3:\n",
    "        return [0,1,1]\n",
    "    res =[0, 1, 1]\n",
    "    for i in range(3, n):\n",
    "        res.append(res[i-1] + res[i-2] + res[i-3])\n",
    "    return res"
   ]
  },
  {
   "cell_type": "code",
   "execution_count": 51,
   "metadata": {},
   "outputs": [
    {
     "data": {
      "text/plain": [
       "[0, 1, 1, 2, 4, 7]"
      ]
     },
     "execution_count": 51,
     "metadata": {},
     "output_type": "execute_result"
    }
   ],
   "source": [
    "Func(6)"
   ]
  },
  {
   "cell_type": "code",
   "execution_count": 56,
   "metadata": {},
   "outputs": [
    {
     "data": {
      "text/plain": [
       "[1, 1, 2, 3, 5]"
      ]
     },
     "execution_count": 56,
     "metadata": {},
     "output_type": "execute_result"
    }
   ],
   "source": [
    "[fib(n) for n in range(5)]"
   ]
  },
  {
   "cell_type": "code",
   "execution_count": 60,
   "metadata": {},
   "outputs": [
    {
     "data": {
      "text/plain": [
       "[0,\n",
       " 1,\n",
       " 1,\n",
       " [0, 1, 1, [0, 1, 1, 0, 1], 0, 1, 1],\n",
       " [0, 1, 1, [0, 1, 1, 0, 1], 0, 1, 1]]"
      ]
     },
     "execution_count": 60,
     "metadata": {},
     "output_type": "execute_result"
    }
   ],
   "source": [
    "fib(5)"
   ]
  },
  {
   "cell_type": "code",
   "execution_count": 61,
   "metadata": {},
   "outputs": [
    {
     "data": {
      "text/plain": [
       "[1, 1, 2, 3, 5, 8, 13, 21, 34, 55]"
      ]
     },
     "execution_count": 61,
     "metadata": {},
     "output_type": "execute_result"
    }
   ],
   "source": [
    "def fib(N):\n",
    "    if N <= 1:\n",
    "        return 1\n",
    "    return fib(N - 1) + fib(N - 2)\n",
    "\n",
    "[fib(i) for i in range(10)]"
   ]
  },
  {
   "cell_type": "code",
   "execution_count": 110,
   "metadata": {},
   "outputs": [],
   "source": [
    "def coin_num(denoms, value):\n",
    "    denoms.sort()\n",
    "    start = 0\n",
    "    end = len(denoms) - 1\n",
    "    while end >=0:\n",
    "        count = value // denoms[end]\n",
    "        start = start + count\n",
    "        value = value - count * denoms[end]\n",
    "        end = end - 1 \n",
    "    return start"
   ]
  },
  {
   "cell_type": "code",
   "execution_count": 115,
   "metadata": {},
   "outputs": [
    {
     "data": {
      "text/plain": [
       "2"
      ]
     },
     "execution_count": 115,
     "metadata": {},
     "output_type": "execute_result"
    }
   ],
   "source": [
    "coin_num([1, 2,4,25], 8)"
   ]
  },
  {
   "cell_type": "code",
   "execution_count": 119,
   "metadata": {},
   "outputs": [
    {
     "name": "stdout",
     "output_type": "stream",
     "text": [
      "[0 0 2 1 0 1 1 0 1 0 0 1 2 0 1 3 1 3 0 0 2 0 1 1 2 0 0 1 0 2 0 0 1 0 1 2 0\n",
      " 1 0 0 1 0 0 1 1 1 0 1 2 1 1 0 2 2 1 0 2 1 1 3 1 1 1 0 0 2 1 0 3 2 1 1 1 1\n",
      " 1 0 2 0 2 1 1 0 2 2 0 2 2 2 1 0 0 1 0 0 2 1 0 3 1 0 1 0 1 2 0 1 1 1 1 1 1\n",
      " 3 1 1 1 2 2 2 0 0 1 0 0 0 2 1 2 1 0 0 1 3 0 0 1 1 1 3 2 1 0 0 1 2 1 1 1 0\n",
      " 0 3 1 1 2 3 0 2 0 1 1 0 1 0 0 3 1 0 7 1 2 2 1 2 1 0 1 1 0 1 1 0 2 0 1 1 1\n",
      " 2 1 0 3 3 0 1 1 0 4 1 0 2 3 1 0 1 3 2 1 1 3 1 4 0 2 2 0 2 1 0 1 3 0 3 1 0\n",
      " 1 0 3 0 1 0 3 0 0 1 2 2 1 0 0 3 0 3 0 0 2 2 0 2 2 0 0 0 0 0 2 1 1 2 2 0 1\n",
      " 0 1 2 1 0 2 0 1 0 0 0 1 2 2 2 2 1 0 0 1 1 2 2 1 2 0 0 2 0 1 5 3 1 0 2 1 0\n",
      " 1 3 1 1 0 0 1 2 3 2 1 1 1 5 1 1 1 0 4 1 2 0 0 2 2 0 1 0 2 1 1 1 1 3 2 1 2\n",
      " 0 2 1 0 0 1 1 0 1 0 1 0 2 0 1 1 1 0 0 0 3 2 2 2 1 4 2 0 1 1 2 2]\n"
     ]
    }
   ],
   "source": [
    "from numpy import random\n",
    "\n",
    "x = random.poisson(lam=1, size=365)\n",
    "\n",
    "print(x) "
   ]
  },
  {
   "cell_type": "code",
   "execution_count": 121,
   "metadata": {},
   "outputs": [
    {
     "data": {
      "image/png": "[encoded data removed]",
      "text/plain": [
       "<Figure size 432x288 with 1 Axes>"
      ]
     },
     "metadata": {
      "needs_background": "light"
     },
     "output_type": "display_data"
    }
   ],
   "source": [
    "import matplotlib.pyplot as plt\n",
    "import seaborn as sns\n",
    "\n",
    "sns.distplot(random.poisson(lam=1, size=365), kde=False)\n",
    "\n",
    "plt.show()"
   ]
  },
  {
   "cell_type": "code",
   "execution_count": 125,
   "metadata": {},
   "outputs": [
    {
     "data": {
      "text/plain": [
       "1.1086819315052997e-156"
      ]
     },
     "execution_count": 125,
     "metadata": {},
     "output_type": "execute_result"
    }
   ],
   "source": [
    "import scipy.stats.distributions\n",
    "# <module 'scipy.stats.distributions' from '/home/coventry/lib/python2.5/site-packages/scipy/stats/distributions.pyc'>\n",
    "scipy.stats.distributions.poisson.pmf(1, 365)\n",
    "# array(0.031867055625524499)"
   ]
  },
  {
   "cell_type": "code",
   "execution_count": 126,
   "metadata": {},
   "outputs": [],
   "source": [
    "import math\n",
    "\n",
    "def poisson_probability(actual, mean):\n",
    "    # naive:   math.exp(-mean) * mean**actual / factorial(actual)\n",
    "\n",
    "    # iterative, to keep the components from getting too large or small:\n",
    "    p = math.exp(-mean)\n",
    "    for i in xrange(actual):\n",
    "        p *= mean\n",
    "        p /= i+1\n",
    "    return p"
   ]
  },
  {
   "cell_type": "code",
   "execution_count": 127,
   "metadata": {},
   "outputs": [
    {
     "ename": "NameError",
     "evalue": "name 'xrange' is not defined",
     "output_type": "error",
     "traceback": [
      "\u001b[0;31m---------------------------------------------------------------------------\u001b[0m",
      "\u001b[0;31mNameError\u001b[0m                                 Traceback (most recent call last)",
      "\u001b[0;32m<ipython-input-127-559efa60de32>\u001b[0m in \u001b[0;36m<module>\u001b[0;34m\u001b[0m\n\u001b[0;32m----> 1\u001b[0;31m \u001b[0mpoisson_probability\u001b[0m\u001b[0;34m(\u001b[0m\u001b[0;36m365\u001b[0m\u001b[0;34m,\u001b[0m \u001b[0;36m1\u001b[0m\u001b[0;34m)\u001b[0m\u001b[0;34m\u001b[0m\u001b[0;34m\u001b[0m\u001b[0m\n\u001b[0m",
      "\u001b[0;32m<ipython-input-126-e7c13c5bd8a4>\u001b[0m in \u001b[0;36mpoisson_probability\u001b[0;34m(actual, mean)\u001b[0m\n\u001b[1;32m      6\u001b[0m     \u001b[0;31m# iterative, to keep the components from getting too large or small:\u001b[0m\u001b[0;34m\u001b[0m\u001b[0;34m\u001b[0m\u001b[0;34m\u001b[0m\u001b[0m\n\u001b[1;32m      7\u001b[0m     \u001b[0mp\u001b[0m \u001b[0;34m=\u001b[0m \u001b[0mmath\u001b[0m\u001b[0;34m.\u001b[0m\u001b[0mexp\u001b[0m\u001b[0;34m(\u001b[0m\u001b[0;34m-\u001b[0m\u001b[0mmean\u001b[0m\u001b[0;34m)\u001b[0m\u001b[0;34m\u001b[0m\u001b[0;34m\u001b[0m\u001b[0m\n\u001b[0;32m----> 8\u001b[0;31m     \u001b[0;32mfor\u001b[0m \u001b[0mi\u001b[0m \u001b[0;32min\u001b[0m \u001b[0mxrange\u001b[0m\u001b[0;34m(\u001b[0m\u001b[0mactual\u001b[0m\u001b[0;34m)\u001b[0m\u001b[0;34m:\u001b[0m\u001b[0;34m\u001b[0m\u001b[0;34m\u001b[0m\u001b[0m\n\u001b[0m\u001b[1;32m      9\u001b[0m         \u001b[0mp\u001b[0m \u001b[0;34m*=\u001b[0m \u001b[0mmean\u001b[0m\u001b[0;34m\u001b[0m\u001b[0;34m\u001b[0m\u001b[0m\n\u001b[1;32m     10\u001b[0m         \u001b[0mp\u001b[0m \u001b[0;34m/=\u001b[0m \u001b[0mi\u001b[0m\u001b[0;34m+\u001b[0m\u001b[0;36m1\u001b[0m\u001b[0;34m\u001b[0m\u001b[0;34m\u001b[0m\u001b[0m\n",
      "\u001b[0;31mNameError\u001b[0m: name 'xrange' is not defined"
     ]
    }
   ],
   "source": [
    "poisson_probability(365, 1)"
   ]
  },
  {
   "cell_type": "code",
   "execution_count": 128,
   "metadata": {},
   "outputs": [
    {
     "data": {
      "text/plain": [
       "0.4087549346349359"
      ]
     },
     "execution_count": 128,
     "metadata": {},
     "output_type": "execute_result"
    }
   ],
   "source": [
    " math.exp(-1)/0.9 "
   ]
  },
  {
   "cell_type": "code",
   "execution_count": 130,
   "metadata": {},
   "outputs": [
    {
     "data": {
      "text/plain": [
       "1.053736471965404"
      ]
     },
     "execution_count": 130,
     "metadata": {},
     "output_type": "execute_result"
    }
   ],
   "source": [
    "math.exp(math.log(1) + math.sqrt(1/365))"
   ]
  },
  {
   "cell_type": "code",
   "execution_count": 134,
   "metadata": {},
   "outputs": [
    {
     "data": {
      "text/plain": [
       "2.2800000000000002"
      ]
     },
     "execution_count": 134,
     "metadata": {},
     "output_type": "execute_result"
    }
   ],
   "source": [
    "1 + 1.28 * math.sqrt(1)"
   ]
  },
  {
   "cell_type": "code",
   "execution_count": 135,
   "metadata": {},
   "outputs": [
    {
     "data": {
      "text/plain": [
       "839.4999999999999"
      ]
     },
     "execution_count": 135,
     "metadata": {},
     "output_type": "execute_result"
    }
   ],
   "source": [
    "365 * 2.3"
   ]
  },
  {
   "cell_type": "code",
   "execution_count": 2,
   "metadata": {},
   "outputs": [
    {
     "data": {
      "text/plain": [
       "'0.22.1'"
      ]
     },
     "execution_count": 2,
     "metadata": {},
     "output_type": "execute_result"
    }
   ],
   "source": [
    "import sklearn\n",
    "\n",
    "sklearn.__version__"
   ]
  },
  {
   "cell_type": "code",
   "execution_count": 1,
   "metadata": {},
   "outputs": [],
   "source": [
    "import sweetviz as sv"
   ]
  },
  {
   "cell_type": "code",
   "execution_count": 2,
   "metadata": {},
   "outputs": [],
   "source": [
    "import pandas as pd"
   ]
  },
  {
   "cell_type": "code",
   "execution_count": 3,
   "metadata": {},
   "outputs": [],
   "source": [
    "df = pd.read_csv('online_shoppers_intention.csv')"
   ]
  },
  {
   "cell_type": "code",
   "execution_count": 5,
   "metadata": {},
   "outputs": [
    {
     "data": {
      "application/vnd.jupyter.widget-view+json": {
       "model_id": "0940bdd600ae4feea967520d10736275",
       "version_major": 2,
       "version_minor": 0
      },
      "text/plain": [
       "HBox(children=(HTML(value=''), FloatProgress(value=0.0, layout=Layout(flex='2'), max=19.0), HTML(value='')), l…"
      ]
     },
     "metadata": {},
     "output_type": "display_data"
    },
    {
     "name": "stdout",
     "output_type": "stream",
     "text": [
      "\n"
     ]
    },
    {
     "data": {
      "application/vnd.jupyter.widget-view+json": {
       "model_id": "e273b81638f84859aba528817bebc2b6",
       "version_major": 2,
       "version_minor": 0
      },
      "text/plain": [
       "HBox(children=(HTML(value=''), FloatProgress(value=0.0, layout=Layout(flex='2'), max=18.0), HTML(value='')), l…"
      ]
     },
     "metadata": {},
     "output_type": "display_data"
    },
    {
     "name": "stdout",
     "output_type": "stream",
     "text": [
      "\n"
     ]
    },
    {
     "data": {
      "application/vnd.jupyter.widget-view+json": {
       "model_id": "002da5881d1e4c8b83975828b42a4296",
       "version_major": 2,
       "version_minor": 0
      },
      "text/plain": [
       "HBox(children=(HTML(value=''), FloatProgress(value=0.0, layout=Layout(flex='2'), max=1.0), HTML(value='')), la…"
      ]
     },
     "metadata": {},
     "output_type": "display_data"
    },
    {
     "name": "stdout",
     "output_type": "stream",
     "text": [
      "\n",
      "Report SWEETVIZ_REPORT.html was generated! NOTEBOOK/COLAB USERS: the web browser MAY not pop up, regardless, the report IS saved in your notebook/colab files.\n"
     ]
    }
   ],
   "source": [
    "my_report = sv.analyze(df)\n",
    "my_report.show_html() # Default arguments will generate to \"SWEETVIZ_REPORT.html\""
   ]
  },
  {
   "cell_type": "code",
   "execution_count": 8,
   "metadata": {},
   "outputs": [],
   "source": [
    "import numpy as np"
   ]
  },
  {
   "cell_type": "code",
   "execution_count": 62,
   "metadata": {},
   "outputs": [
    {
     "name": "stdout",
     "output_type": "stream",
     "text": [
      "[10, 10, 10, 10, 10, 10, 10, 10, 10, 10, 10, 10, 10, 10, 10, 10, 10, 10, 10, 10, 10, 10, 10, 10, 10, 10, 10, 10, 10, 10, 10, 10, 10, 10, 10, 10, 10, 10, 10, 10, 10, 10, 10, 10, 10, 10, 10, 10, 10, 10, 10, 10, 10, 10, 10, 10, 10, 10, 10, 10, 10, 10, 10.01, 10.065, 10.120000000000001, 10.175, 10.23, 10.285, 10.34, 10.395, 10.450000000000001, 10.505, 10.56, 10.615, 10.67, 10.725, 10.78, 10.835, 10.89, 10.945, 11.0, 11.055, 11.11, 11.165000000000001, 11.22, 11.275, 11.33, 11.385, 11.44, 11.495000000000001, 11.55, 11.605, 11.66, 11.715, 11.77, 11.825000000000001, 11.88, 11.935, 11.99, 12.045]\n"
     ]
    },
    {
     "data": {
      "text/plain": [
       "1039.0449999999998"
      ]
     },
     "execution_count": 62,
     "metadata": {},
     "output_type": "execute_result"
    }
   ],
   "source": [
    "n = 100\n",
    "minmum_wage = 10\n",
    "base_rate = 11\n",
    "pays=[]\n",
    "for i in np.arange(60, 110, 0.5):\n",
    "    pays.append(base_rate * i * 0.01)\n",
    "\n",
    "for i in range(len(pays)):\n",
    "    if pays[i] < 10:\n",
    "        pays[i] = 10\n",
    "\n",
    "print(pays)\n",
    "\n",
    "pd.Series(pays).sum()\n"
   ]
  },
  {
   "cell_type": "code",
   "execution_count": 54,
   "metadata": {},
   "outputs": [
    {
     "data": {
      "text/plain": [
       "100"
      ]
     },
     "execution_count": 54,
     "metadata": {},
     "output_type": "execute_result"
    }
   ],
   "source": [
    "len(np.arange(60, 110, 0.5))"
   ]
  },
  {
   "cell_type": "code",
   "execution_count": 160,
   "metadata": {},
   "outputs": [],
   "source": [
    "def total_pays(base_rate):\n",
    "    min_wage=10\n",
    "    pays=[]\n",
    "    for i in np.arange(60, 110, 0.5):\n",
    "        pays.append(base_rate * i * 0.01)\n",
    "    pay_less_ten = 0 \n",
    "    for i in range(len(pays)):\n",
    "        if pays[i] < 10:\n",
    "            pay_less_ten += 1\n",
    "            pays[i] = 10\n",
    "    total_pays = pd.Series(pays).sum()\n",
    "    cutoff_efficiency = pay_less_ten * 0.005 + 0.60\n",
    "    peacework_pay_empy = 100 - pay_less_ten\n",
    "    return total_pays.round(1), peacework_pay_empy, round(cutoff_efficiency,2)"
   ]
  },
  {
   "cell_type": "code",
   "execution_count": 164,
   "metadata": {},
   "outputs": [
    {
     "name": "stdout",
     "output_type": "stream",
     "text": [
      "base rate: 11.0   total pay: 1039.0   piecework pay empy: 38   cutoff efficiency: 0.91\n",
      "base rate: 11.1   total pay: 1042.9   piecework pay empy: 39   cutoff efficiency: 0.91\n",
      "base rate: 11.2   total pay: 1046.9   piecework pay empy: 41   cutoff efficiency: 0.9\n",
      "base rate: 11.3   total pay: 1051.0   piecework pay empy: 43   cutoff efficiency: 0.89\n",
      "base rate: 11.4   total pay: 1055.3   piecework pay empy: 44   cutoff efficiency: 0.88\n",
      "base rate: 11.5   total pay: 1059.7   piecework pay empy: 46   cutoff efficiency: 0.87\n",
      "base rate: 11.6   total pay: 1064.3   piecework pay empy: 47   cutoff efficiency: 0.86\n",
      "base rate: 11.7   total pay: 1069.0   piecework pay empy: 49   cutoff efficiency: 0.85\n",
      "base rate: 11.8   total pay: 1073.8   piecework pay empy: 50   cutoff efficiency: 0.85\n",
      "base rate: 11.9   total pay: 1078.7   piecework pay empy: 51   cutoff efficiency: 0.84\n",
      "base rate: 12.0   total pay: 1083.7   piecework pay empy: 53   cutoff efficiency: 0.83\n"
     ]
    }
   ],
   "source": [
    "base_rate = 11.00\n",
    "while base_rate <= 12.00:\n",
    "    total_pay, num_pay10, cutoff_efficiency = total_pays(base_rate)\n",
    "    print(\"base rate:\", round(base_rate,2), \" \", \"total pay:\", total_pay, \" \", \n",
    "          \"piecework pay empy:\", num_pay10, \" \", \"cutoff efficiency:\", cutoff_efficiency)\n",
    "    base_rate += 0.10"
   ]
  },
  {
   "cell_type": "code",
   "execution_count": 150,
   "metadata": {},
   "outputs": [
    {
     "name": "stdout",
     "output_type": "stream",
     "text": [
      "0.85\n",
      "0.85\n"
     ]
    }
   ],
   "source": [
    "l = np.arange(0.6, 1.1, 0.005)\n",
    "from statistics import median \n",
    "print(median(l).round(2))\n",
    "print(l.mean().round(2))"
   ]
  },
  {
   "cell_type": "code",
   "execution_count": 132,
   "metadata": {},
   "outputs": [
    {
     "data": {
      "text/plain": [
       "11.8"
      ]
     },
     "execution_count": 132,
     "metadata": {},
     "output_type": "execute_result"
    }
   ],
   "source": [
    "round(10/0.85, 1)"
   ]
  },
  {
   "cell_type": "code",
   "execution_count": 134,
   "metadata": {},
   "outputs": [
    {
     "data": {
      "text/plain": [
       "(1073.8, 50, 0.85)"
      ]
     },
     "execution_count": 134,
     "metadata": {},
     "output_type": "execute_result"
    }
   ],
   "source": [
    "total_pays(11.8)"
   ]
  },
  {
   "cell_type": "code",
   "execution_count": null,
   "metadata": {},
   "outputs": [],
   "source": []
  }
 ],
 "metadata": {
  "kernelspec": {
   "display_name": "Python [conda env:learn-env] *",
   "language": "python",
   "name": "conda-env-learn-env-py"
  },
  "language_info": {
   "codemirror_mode": {
    "name": "ipython",
    "version": 3
   },
   "file_extension": ".py",
   "mimetype": "text/x-python",
   "name": "python",
   "nbconvert_exporter": "python",
   "pygments_lexer": "ipython3",
   "version": "3.6.9"
  }
 },
 "nbformat": 4,
 "nbformat_minor": 4
}
