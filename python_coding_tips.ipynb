{
 "cells": [
  {
   "cell_type": "code",
   "execution_count": 1,
   "metadata": {},
   "outputs": [],
   "source": [
    "import pandas as pd\n",
    "import numpy as np"
   ]
  },
  {
   "cell_type": "markdown",
   "metadata": {},
   "source": [
    "## Useful Python Coding Tips"
   ]
  },
  {
   "cell_type": "code",
   "execution_count": 2,
   "metadata": {},
   "outputs": [
    {
     "data": {
      "text/plain": [
       "'gnohiadwolleh'"
      ]
     },
     "execution_count": 2,
     "metadata": {},
     "output_type": "execute_result"
    }
   ],
   "source": [
    "# reverse\n",
    "\n",
    "my_string = \"hellowdaihong\"\n",
    "\n",
    "reversed_string = my_string[::-1]\n",
    "\n",
    "reversed_string "
   ]
  },
  {
   "cell_type": "code",
   "execution_count": 83,
   "metadata": {},
   "outputs": [
    {
     "data": {
      "text/plain": [
       "[0, 7, 6, 5, 4, 3, 2, 1]"
      ]
     },
     "execution_count": 83,
     "metadata": {},
     "output_type": "execute_result"
    }
   ],
   "source": [
    "my_list = [1,2,3,4,5,6,7,0]\n",
    "reversed_list = my_list[::-1]\n",
    "reversed_list"
   ]
  },
  {
   "cell_type": "code",
   "execution_count": 25,
   "metadata": {},
   "outputs": [
    {
     "data": {
      "text/plain": [
       "'gnohiadwolleh'"
      ]
     },
     "execution_count": 25,
     "metadata": {},
     "output_type": "execute_result"
    }
   ],
   "source": [
    "## writw an algorithm without using a function\n",
    "def reverse_string(my_string):\n",
    "    \n",
    "    temp_list=[]\n",
    "    for i in range(len(my_string)-1, -1, -1):\n",
    "        temp_list.append(my_string[i])\n",
    "        new_str = ''.join(temp_list)\n",
    "    return new_str\n",
    "\n",
    "my_string = \"hellowdaihong\"\n",
    "\n",
    "reverse_string(my_string)"
   ]
  },
  {
   "cell_type": "code",
   "execution_count": 3,
   "metadata": {},
   "outputs": [
    {
     "name": "stdout",
     "output_type": "stream",
     "text": [
      " Today Is A New Day. Please Cheer Up\n"
     ]
    }
   ],
   "source": [
    "# Catitalize the first letter\n",
    "\n",
    "my_string = \" today is a new day, please cheer up\"\n",
    "\n",
    "my_string = my_string.title()\n",
    "print(my_string)"
   ]
  },
  {
   "cell_type": "code",
   "execution_count": 41,
   "metadata": {},
   "outputs": [
    {
     "name": "stdout",
     "output_type": "stream",
     "text": [
      "bgactenhkd\n"
     ]
    }
   ],
   "source": [
    "# find the unique elements\n",
    "my_string = \"abcghdngbacndcadckgnadcadacgaetdgadcac\"\n",
    "\n",
    "temp_set = set(my_string)\n",
    "\n",
    "new_string = ''.join(temp_set)\n",
    "print(new_string)"
   ]
  },
  {
   "cell_type": "code",
   "execution_count": 35,
   "metadata": {},
   "outputs": [],
   "source": [
    "## write a function to find the unique elements\n",
    "\n",
    "def unique_elements(my_string):\n",
    "    hashmap = {}\n",
    "    for i in my_string:\n",
    "        if i not in hashmap:\n",
    "            hashmap[i] = 1\n",
    "        else:\n",
    "            hashmap[i] +=1\n",
    "    \n",
    "    temp_list = hashmap.keys()\n",
    "    unique_str = ''.join(temp_list)\n",
    "    return unique_str\n",
    "        "
   ]
  },
  {
   "cell_type": "code",
   "execution_count": 40,
   "metadata": {},
   "outputs": [
    {
     "name": "stdout",
     "output_type": "stream",
     "text": [
      "abcghdnket\n"
     ]
    }
   ],
   "source": [
    "my_string = \"abcghdngbacndcadckgnadcadacgaetdgadcac\"\n",
    "unique_elements(my_string)\n",
    "print(unique_elements(my_string))"
   ]
  },
  {
   "cell_type": "code",
   "execution_count": 11,
   "metadata": {},
   "outputs": [
    {
     "name": "stdout",
     "output_type": "stream",
     "text": [
      "ABCDABCDABCD\n",
      "[2, 5, 6, 2, 5, 6, 2, 5, 6]\n"
     ]
    }
   ],
   "source": [
    "# string or list times by a number\n",
    "\n",
    "my_string = \"ABCD\"\n",
    "my_list = [2,5,6]\n",
    "\n",
    "new_string = my_string * 3\n",
    "\n",
    "new_list = my_list * 3\n",
    "\n",
    "print(new_string)\n",
    "\n",
    "print(new_list)"
   ]
  },
  {
   "cell_type": "code",
   "execution_count": 42,
   "metadata": {},
   "outputs": [
    {
     "data": {
      "text/plain": [
       "[5, 10, 15, 25, 30, 35, 40]"
      ]
     },
     "execution_count": 42,
     "metadata": {},
     "output_type": "execute_result"
    }
   ],
   "source": [
    "## list comprehension\n",
    "\n",
    "orginal_list = [1,2,3,5,6,7,8]\n",
    "new_list = [5 * i for i in orginal_list]\n",
    "new_list"
   ]
  },
  {
   "cell_type": "code",
   "execution_count": 43,
   "metadata": {},
   "outputs": [
    {
     "name": "stdout",
     "output_type": "stream",
     "text": [
      "5 1\n"
     ]
    }
   ],
   "source": [
    "## exchange element\n",
    "a = 1\n",
    "b = 5\n",
    "a, b = b, a\n",
    "print(a, b)"
   ]
  },
  {
   "cell_type": "code",
   "execution_count": 46,
   "metadata": {},
   "outputs": [
    {
     "name": "stdout",
     "output_type": "stream",
     "text": [
      "['I', 'love', 'autumn', 'because', 'it', 'is', 'a', 'very', 'beautiful', 'day']\n",
      "['sample', 'string', 'split']\n"
     ]
    },
    {
     "data": {
      "text/plain": [
       "'i love autumn because it is a very beautiful day'"
      ]
     },
     "execution_count": 46,
     "metadata": {},
     "output_type": "execute_result"
    }
   ],
   "source": [
    "## split string as single element in a list\n",
    "\n",
    "string1 = 'I love autumn because it is a very beautiful day'\n",
    "string2 = 'sample;string;split'\n",
    "print(string1.split())\n",
    "print(string2.split(';'))\n",
    "\n",
    "## join strings as a sentence:\n",
    "str_list = ['i', 'love', 'autumn', 'because', 'it', 'is', 'a', 'very', 'beautiful', 'day']\n",
    "' '.join(str_list)"
   ]
  },
  {
   "cell_type": "code",
   "execution_count": 51,
   "metadata": {},
   "outputs": [],
   "source": [
    "## Palindrome \n",
    "\n",
    "def check_palindrome(my_string):\n",
    "    if my_string == my_string[::-1]:\n",
    "        return True\n",
    "    else:\n",
    "        return False"
   ]
  },
  {
   "cell_type": "code",
   "execution_count": 52,
   "metadata": {},
   "outputs": [
    {
     "data": {
      "text/plain": [
       "True"
      ]
     },
     "execution_count": 52,
     "metadata": {},
     "output_type": "execute_result"
    }
   ],
   "source": [
    "check_palindrome('abba')"
   ]
  },
  {
   "cell_type": "code",
   "execution_count": 54,
   "metadata": {},
   "outputs": [
    {
     "data": {
      "text/plain": [
       "'gfedcba'"
      ]
     },
     "execution_count": 54,
     "metadata": {},
     "output_type": "execute_result"
    }
   ],
   "source": [
    "my_string = 'abcdefg'\n",
    "my_string[::-1]"
   ]
  },
  {
   "cell_type": "code",
   "execution_count": 58,
   "metadata": {},
   "outputs": [
    {
     "name": "stdout",
     "output_type": "stream",
     "text": [
      "Counter({5: 6, 7: 4, 1: 3, 2: 3, 3: 3, 6: 3, 4: 2, 78: 1, 42: 1, 21: 1, 34: 1, 32: 1})\n",
      "[(5, 6), (7, 4)]\n"
     ]
    }
   ],
   "source": [
    "## Counter and most_common() function\n",
    "from collections import Counter\n",
    "\n",
    "my_list = [1,2,3,5,2,5,6,7,78,3,4,5,42,21,34,32,1,3,4,5,6,7,7,5,6,7,2,1,5]\n",
    "\n",
    "count=Counter(my_list)\n",
    "print(count)\n",
    "print(count.most_common(2))"
   ]
  },
  {
   "cell_type": "code",
   "execution_count": 61,
   "metadata": {},
   "outputs": [],
   "source": [
    "# write a function:\n",
    "\n",
    "def counter_func(my_list):\n",
    "    hashmark = {}\n",
    "    for i in my_list:\n",
    "        if i not in hashmark:\n",
    "            hashmark[i] = 1\n",
    "        else:\n",
    "            hashmark[i] += 1\n",
    "    return hashmark"
   ]
  },
  {
   "cell_type": "code",
   "execution_count": 62,
   "metadata": {},
   "outputs": [
    {
     "data": {
      "text/plain": [
       "{1: 3, 2: 3, 3: 3, 5: 6, 6: 3, 7: 4, 78: 1, 4: 2, 42: 1, 21: 1, 34: 1, 32: 1}"
      ]
     },
     "execution_count": 62,
     "metadata": {},
     "output_type": "execute_result"
    }
   ],
   "source": [
    "my_list = [1,2,3,5,2,5,6,7,78,3,4,5,42,21,34,32,1,3,4,5,6,7,7,5,6,7,2,1,5]\n",
    "counter_func(my_list)"
   ]
  },
  {
   "cell_type": "code",
   "execution_count": 67,
   "metadata": {},
   "outputs": [],
   "source": [
    "## use counter to check anagrams: anagrams means the elements are the same in two strings but different oder\n",
    "\n",
    "from collections import Counter\n",
    "str_1 = 'abbcdegt'\n",
    "str_2 = 'acdbegbt'\n",
    "str_3 = 'abhdacgt'\n",
    "\n",
    "def check_anagram(str_a, str_b):\n",
    "    count_a = Counter(str_a)\n",
    "    count_b = Counter(str_b)\n",
    "    if count_a == count_b:\n",
    "        return True\n",
    "    else:\n",
    "        return False"
   ]
  },
  {
   "cell_type": "code",
   "execution_count": 68,
   "metadata": {},
   "outputs": [
    {
     "data": {
      "text/plain": [
       "False"
      ]
     },
     "execution_count": 68,
     "metadata": {},
     "output_type": "execute_result"
    }
   ],
   "source": [
    "check_anagram(str_1, str_3)"
   ]
  },
  {
   "cell_type": "code",
   "execution_count": 87,
   "metadata": {},
   "outputs": [
    {
     "name": "stdout",
     "output_type": "stream",
     "text": [
      "5.0\n",
      "no exceptions raised\n",
      "run this always\n"
     ]
    }
   ],
   "source": [
    "## try, except, else, finally:\n",
    "a, b = 10, 2\n",
    "try:\n",
    "    print(a/b)\n",
    "except ZeroDivisionError:\n",
    "        \n",
    "else:\n",
    "    print('no exceptions raised')\n",
    "finally:\n",
    "    print('run this always')"
   ]
  },
  {
   "cell_type": "code",
   "execution_count": 104,
   "metadata": {},
   "outputs": [
    {
     "name": "stdout",
     "output_type": "stream",
     "text": [
      "50.0\n",
      "no exceptions raised\n",
      "run this always\n",
      "33.333333333333336\n",
      "no exceptions raised\n",
      "run this always\n",
      "25.0\n",
      "no exceptions raised\n",
      "run this always\n",
      "50.0\n",
      "no exceptions raised\n",
      "run this always\n",
      "16.666666666666668\n",
      "no exceptions raised\n",
      "run this always\n",
      "devision by zero\n",
      "run this always\n",
      "11.11111111111111\n",
      "no exceptions raised\n",
      "run this always\n",
      "devision by zero\n",
      "run this always\n",
      "12.5\n",
      "no exceptions raised\n",
      "run this always\n",
      "11.11111111111111\n",
      "no exceptions raised\n",
      "run this always\n",
      "100.0\n",
      "no exceptions raised\n",
      "run this always\n"
     ]
    }
   ],
   "source": [
    "a = 100\n",
    "b = [2,3,4,2,6,0,9,0,8,9,1]\n",
    "for i in b:\n",
    "    try:\n",
    "        print(a/i)\n",
    "    except ZeroDivisionError:\n",
    "            print('devision by zero')\n",
    "    else:\n",
    "        print('no exceptions raised')\n",
    "    finally:\n",
    "        print('run this always')\n"
   ]
  },
  {
   "cell_type": "code",
   "execution_count": 70,
   "metadata": {},
   "outputs": [
    {
     "name": "stdout",
     "output_type": "stream",
     "text": [
      "28\n"
     ]
    }
   ],
   "source": [
    "## find the storage size for the element\n",
    "import sys\n",
    "num = 23456\n",
    "print(sys.getsizeof(num))"
   ]
  },
  {
   "cell_type": "code",
   "execution_count": 73,
   "metadata": {},
   "outputs": [
    {
     "name": "stdout",
     "output_type": "stream",
     "text": [
      "{'apple': 4, 'banana': 3, 'blueberry': 12, 'orage': 2}\n"
     ]
    }
   ],
   "source": [
    "## combine dictionaries: if all dictionaries have the same key, the last one will be used. \n",
    "dic_a = {'apple': 4, 'banana': 6}\n",
    "dic_b = {'banana': 9, 'blueberry': 12}\n",
    "dic_c = {'banana': 3, \"orage\": 2}\n",
    "\n",
    "\n",
    "combine_dic = {**dic_a, **dic_b, **dic_c}\n",
    "print(combine_dic)"
   ]
  },
  {
   "cell_type": "code",
   "execution_count": 86,
   "metadata": {},
   "outputs": [
    {
     "name": "stdout",
     "output_type": "stream",
     "text": [
      "<generator object flatten.<locals>.<genexpr> at 0x10e97e6d0>\n"
     ]
    }
   ],
   "source": [
    "# flatten list:\n",
    "\n",
    "# from iteration_utilities import deepflatten\n",
    "\n",
    "def flatten(l):\n",
    "    return (item for sublist in l for item in sublist)\n",
    "\n",
    "l = [[1,2,3], [3,4,5]]\n",
    "l = flatten(l)\n",
    "print(l)"
   ]
  },
  {
   "cell_type": "code",
   "execution_count": 78,
   "metadata": {},
   "outputs": [
    {
     "data": {
      "text/plain": [
       "[26, 8, 88, 92, 39, 77, 38, 71, 93, 4]"
      ]
     },
     "execution_count": 78,
     "metadata": {},
     "output_type": "execute_result"
    }
   ],
   "source": [
    "## random sampling:\n",
    "import random\n",
    "\n",
    "my_list = range(100)\n",
    "\n",
    "my_sample = random.sample(my_list, 10)\n",
    "my_sample"
   ]
  },
  {
   "cell_type": "code",
   "execution_count": 82,
   "metadata": {},
   "outputs": [
    {
     "data": {
      "text/plain": [
       "[59, 58, 51, 3, 20, 60, 78, 68, 16, 56]"
      ]
     },
     "execution_count": 82,
     "metadata": {},
     "output_type": "execute_result"
    }
   ],
   "source": [
    "# secured sampling\n",
    "\n",
    "import secrets\n",
    "secure_random = secrets.SystemRandom()\n",
    "my_sample = secure_random.sample(my_list, 10)\n",
    "my_sample"
   ]
  },
  {
   "cell_type": "code",
   "execution_count": 109,
   "metadata": {},
   "outputs": [
    {
     "name": "stdout",
     "output_type": "stream",
     "text": [
      "0 a\n",
      "1 g\n",
      "2 b\n",
      "3 n\n",
      "4 t\n",
      "5 s\n",
      "6 p\n"
     ]
    }
   ],
   "source": [
    "my_list = ['a', 'g', 'b', 'n', 't', 's', 'p']\n",
    "\n",
    "for i, v in enumerate(my_list):\n",
    "    print(i,v)"
   ]
  },
  {
   "cell_type": "markdown",
   "metadata": {},
   "source": [
    "# Fibonacci\n",
    "The Fibonacci List is the list of numbers: 0, 1, 1, 2, 3, 5, 8, 13, 21, 34, … \n",
    "The next number is generated by adding up the two numbers before it. Build a function FibLst which takes an integer n as input and returns an n-element Fibonacci List. If n is less than 1, returns -1.\n",
    "\n",
    "## Examples\n",
    "\n",
    "FibLst(1) returns [0]\n",
    "\n",
    "FibLst(3) returns [0, 1, 1]\n",
    "\n",
    "FibLst(6) returns [0, 1, 1, 2, 3, 5]\n",
    "\n",
    "FibLst(-3) returns -1"
   ]
  },
  {
   "cell_type": "code",
   "execution_count": 11,
   "metadata": {},
   "outputs": [],
   "source": [
    "def FibLst(n):\n",
    "    if n < 1:\n",
    "        return -1\n",
    "    new_list=[]\n",
    "    s = 0\n",
    "    for i in range(n):\n",
    "        if i <= 1:\n",
    "            s = s + i\n",
    "            new_list.append(s)\n",
    "        else:\n",
    "            s = s + new_list[i-2]\n",
    "            new_list.append(s)\n",
    "    return new_list\n",
    "        "
   ]
  },
  {
   "cell_type": "code",
   "execution_count": 18,
   "metadata": {},
   "outputs": [
    {
     "data": {
      "text/plain": [
       "[0, 1, 1, 2, 3, 5, 8, 13, 21, 34]"
      ]
     },
     "execution_count": 18,
     "metadata": {},
     "output_type": "execute_result"
    }
   ],
   "source": [
    "FibLst(10)"
   ]
  },
  {
   "cell_type": "code",
   "execution_count": 22,
   "metadata": {},
   "outputs": [],
   "source": [
    "def FibLst(n):\n",
    "    if n < 1:\n",
    "        return -1\n",
    "    elif n == 1:\n",
    "        return [0]\n",
    "    elif n == 2:\n",
    "        return [0,1]\n",
    "    else:\n",
    "        new_list=[0,1]\n",
    "        for i in range(2, n):\n",
    "            new_list.append(new_list[i-1] + new_list[i-2])\n",
    "    return new_list\n",
    "    "
   ]
  },
  {
   "cell_type": "code",
   "execution_count": 24,
   "metadata": {},
   "outputs": [
    {
     "data": {
      "text/plain": [
       "-1"
      ]
     },
     "execution_count": 24,
     "metadata": {},
     "output_type": "execute_result"
    }
   ],
   "source": [
    "FibLst(0)"
   ]
  },
  {
   "cell_type": "code",
   "execution_count": 25,
   "metadata": {},
   "outputs": [],
   "source": [
    "# Build a function RevLst which reverses a list.\n",
    "def RevLst(my_list):\n",
    "    return my_list[::-1]"
   ]
  },
  {
   "cell_type": "code",
   "execution_count": 26,
   "metadata": {},
   "outputs": [
    {
     "data": {
      "text/plain": [
       "[5, 4, 3, 2, 1]"
      ]
     },
     "execution_count": 26,
     "metadata": {},
     "output_type": "execute_result"
    }
   ],
   "source": [
    "RevLst([1,2,3,4,5])"
   ]
  },
  {
   "cell_type": "markdown",
   "metadata": {},
   "source": [
    "Build a function IsIn to tell whether a target element in a list.\n",
    "\n",
    "Examples\n",
    "\n",
    "IsIn([1, 2, 3, 4, 5], 2) returns True\n",
    "\n",
    "IsIn([1, 2, 3, 4, 5], 6) returns False"
   ]
  },
  {
   "cell_type": "code",
   "execution_count": 29,
   "metadata": {},
   "outputs": [],
   "source": [
    "def IsIn(my_list, n):\n",
    "    for i in my_list:\n",
    "        if i == n:\n",
    "            return True\n",
    "    else:\n",
    "        return False"
   ]
  },
  {
   "cell_type": "code",
   "execution_count": 32,
   "metadata": {},
   "outputs": [
    {
     "data": {
      "text/plain": [
       "False"
      ]
     },
     "execution_count": 32,
     "metadata": {},
     "output_type": "execute_result"
    }
   ],
   "source": [
    "IsIn([1,2,3,4,5,6], 7)"
   ]
  },
  {
   "cell_type": "code",
   "execution_count": 36,
   "metadata": {},
   "outputs": [],
   "source": [
    "def IsIn(my_list, n):\n",
    "    if n in my_list:\n",
    "        return True\n",
    "    else:\n",
    "        return False"
   ]
  },
  {
   "cell_type": "code",
   "execution_count": 37,
   "metadata": {},
   "outputs": [
    {
     "data": {
      "text/plain": [
       "False"
      ]
     },
     "execution_count": 37,
     "metadata": {},
     "output_type": "execute_result"
    }
   ],
   "source": [
    "IsIn([1,2,3,4,5,6], 7)"
   ]
  },
  {
   "cell_type": "markdown",
   "metadata": {},
   "source": [
    "# Remove an Element\n",
    "Description\n",
    "\n",
    "Build a function RmEl to remove a target element from a list. If the target element appears in the list for multiple times, only remove the first one.\n",
    "\n",
    "Examples\n",
    "\n",
    "RmEl([1, 2, 3, 4, 5], 2) returns [1, 3, 4, 5]\n",
    "\n",
    "RmEl([1, 2, 3, 4, 5], 6) returns [1, 2, 3, 4, 5]\n",
    "\n",
    "RmEl([1, 2, 3, 3, 4, 5], 3) returns [1, 2, 3, 4, 5]"
   ]
  },
  {
   "cell_type": "code",
   "execution_count": 88,
   "metadata": {},
   "outputs": [],
   "source": [
    "def RmEI(my_list, n):\n",
    "    if n in my_list:\n",
    "        return my_list.remove(n)\n",
    "\n",
    "    else:\n",
    "        return my_list"
   ]
  },
  {
   "cell_type": "code",
   "execution_count": 89,
   "metadata": {},
   "outputs": [
    {
     "data": {
      "text/plain": [
       "[1, 4, 5, 6]"
      ]
     },
     "execution_count": 89,
     "metadata": {},
     "output_type": "execute_result"
    }
   ],
   "source": [
    "# my_list = [1,2,3,4,5,6]\n",
    "# n = 4\n",
    "RmEI(my_list, 3)"
   ]
  },
  {
   "cell_type": "code",
   "execution_count": 54,
   "metadata": {},
   "outputs": [],
   "source": [
    "\n",
    "# new_list = my_list.pop[2]\n",
    "# new_list"
   ]
  },
  {
   "cell_type": "markdown",
   "metadata": {},
   "source": [
    "# Separate Numbers\n",
    "\n",
    "Description\n",
    "\n",
    "Build a function SepNum which extracts the odd numbers from a given list ands append the odd numbers at the end of the list.\n",
    "\n",
    "Examples\n",
    "\n",
    "SepNum([1, 2, 3, 4, 5, 6]) returns [2, 4, 6, 1, 3, 5]\n",
    "\n",
    "SepNum([1, 3, 5]) returns [1, 3, 5]\n",
    "\n",
    "SepNum([2, 4, 6]) returns [2, 4, 6]"
   ]
  },
  {
   "cell_type": "code",
   "execution_count": 101,
   "metadata": {},
   "outputs": [],
   "source": [
    "def SepNum(my_list):\n",
    "    start = 0\n",
    "    for i, v in enumerate(my_list):\n",
    "        if v % 2 == 0:\n",
    "            my_list[start], my_list[i] = my_list[i], my_list[start]\n",
    "            start += 1\n",
    "    return my_list\n",
    "            \n",
    "            "
   ]
  },
  {
   "cell_type": "code",
   "execution_count": 104,
   "metadata": {},
   "outputs": [
    {
     "data": {
      "text/plain": [
       "[4, 2, 4, 6, 5, 7, 1, 5, 3, 7]"
      ]
     },
     "execution_count": 104,
     "metadata": {},
     "output_type": "execute_result"
    }
   ],
   "source": [
    "SepNum([1,4, 2,3,5,7,4,5,6, 7])"
   ]
  },
  {
   "cell_type": "code",
   "execution_count": 106,
   "metadata": {},
   "outputs": [
    {
     "data": {
      "text/plain": [
       "[1, 2, 3, 4, 5, 2, 3, 4, 5, 6, 7, 8]"
      ]
     },
     "execution_count": 106,
     "metadata": {},
     "output_type": "execute_result"
    }
   ],
   "source": [
    "a = [1,2,3,4,5]\n",
    "b = [2,3,4,5,6,7,8]\n",
    "a+b"
   ]
  },
  {
   "cell_type": "markdown",
   "metadata": {},
   "source": [
    "## Remove Duplicates from a List\n",
    "Description\n",
    "\n",
    "Build a function RmDuplicate which remove all the duplicates from a list.\n",
    "\n",
    "Examples\n",
    "\n",
    "RmDuplicate([3, 1, 2, 3, 4, 5, 6]) returns [1, 2, 3, 4, 5, 6]\n",
    "\n",
    "RmDuplicate([1, 3, 5]) returns [1, 3, 5]"
   ]
  },
  {
   "cell_type": "code",
   "execution_count": 110,
   "metadata": {},
   "outputs": [],
   "source": [
    "def RmDuplicate(my_list):\n",
    "    return list(set(my_list))"
   ]
  },
  {
   "cell_type": "code",
   "execution_count": 108,
   "metadata": {},
   "outputs": [],
   "source": [
    "def RD(my_list):\n",
    "    if not my_list:\n",
    "        return []\n",
    "    hashmap={}\n",
    "    for i, v in enumerate(my_list):\n",
    "        if v not in hashmap:\n",
    "            hashmap[v]=1\n",
    "        else:\n",
    "            hashmap[v] += 1\n",
    "    new_list = []\n",
    "    for i, v in hashmap.items():\n",
    "        new_list.append(i)\n",
    "    return new_list"
   ]
  },
  {
   "cell_type": "code",
   "execution_count": 109,
   "metadata": {},
   "outputs": [
    {
     "data": {
      "text/plain": [
       "[1, 2, 3, 4, 5]"
      ]
     },
     "execution_count": 109,
     "metadata": {},
     "output_type": "execute_result"
    }
   ],
   "source": [
    "RD([1,2,3,2,3,4,3,4,5,2,3,4])"
   ]
  },
  {
   "cell_type": "code",
   "execution_count": 112,
   "metadata": {},
   "outputs": [],
   "source": [
    "def RD1(my_list):\n",
    "    if not my_list:\n",
    "        return []\n",
    "    new_list=[]\n",
    "    for i in my_list:\n",
    "        if i not in new_list:\n",
    "            new_list.append(i)\n",
    "    return sorted(new_list)"
   ]
  },
  {
   "cell_type": "code",
   "execution_count": 113,
   "metadata": {},
   "outputs": [
    {
     "data": {
      "text/plain": [
       "[1, 2, 3, 4, 5]"
      ]
     },
     "execution_count": 113,
     "metadata": {},
     "output_type": "execute_result"
    }
   ],
   "source": [
    "RD1([1,2,3,2,3,4,3,4,5,2,3,4])"
   ]
  },
  {
   "cell_type": "markdown",
   "metadata": {},
   "source": [
    "## Sort a List\n",
    "\n",
    "Description\n",
    "\n",
    "Build a function SortLst which sorts a list. At this time you can just use the built-in function in Python.\n",
    "\n",
    "Examples\n",
    "\n",
    "SortLst([4, 2, 1, 3, 4, 5]) returns [1, 2, 3, 4, 4, 5]\n",
    "\n",
    "SortLst([1, 3, 5]) returns [1, 3, 5]"
   ]
  },
  {
   "cell_type": "code",
   "execution_count": 114,
   "metadata": {},
   "outputs": [],
   "source": [
    "def SortLst(my_list):\n",
    "    return sorted(my_list)"
   ]
  },
  {
   "cell_type": "code",
   "execution_count": 189,
   "metadata": {},
   "outputs": [],
   "source": [
    "def SL1(my_list):\n",
    "    new_list=[]\n",
    "    while my_list:\n",
    "        minm = my_list[0]\n",
    "        for i in my_list:\n",
    "            if i < minm:\n",
    "                minm = i\n",
    "        new_list.append(minm)\n",
    "        my_list.remove(minm)\n",
    "    return new_list"
   ]
  },
  {
   "cell_type": "code",
   "execution_count": 190,
   "metadata": {},
   "outputs": [],
   "source": [
    "my_list = [6,3,4,2,6,3,4,7,4,5,8,3,5]"
   ]
  },
  {
   "cell_type": "code",
   "execution_count": 191,
   "metadata": {},
   "outputs": [
    {
     "data": {
      "text/plain": [
       "[2, 3, 3, 3, 4, 4, 4, 5, 5, 6, 6, 7, 8]"
      ]
     },
     "execution_count": 191,
     "metadata": {},
     "output_type": "execute_result"
    }
   ],
   "source": [
    "SL1(my_list)"
   ]
  },
  {
   "cell_type": "code",
   "execution_count": 194,
   "metadata": {},
   "outputs": [],
   "source": [
    "def SL(dara_list):\n",
    "    new_list = []\n",
    "    while data_list:\n",
    "        minimum = data_list[0]  # arbitrary number in list \n",
    "        for x in data_list: \n",
    "            if x < minimum:\n",
    "                minimum = x\n",
    "        new_list.append(minimum)\n",
    "        data_list.remove(minimum)    \n",
    "\n",
    "    return new_list"
   ]
  },
  {
   "cell_type": "markdown",
   "metadata": {},
   "source": [
    "## Insert a Number in a Sorted List\n",
    "\n",
    "Description\n",
    "\n",
    "Build a function NumInsert which inserts a number in a sorted list.\n",
    "\n",
    "Examples\n",
    "\n",
    "NumInsert([1, 2, 3, 4, 5, 6], 3) returns [1, 2, 3, 3, 4, 5, 6]\n",
    "\n",
    "NumInsert([1, 2, 3, 4, 5, 6], 7) returns [1, 2, 3, 4, 5, 6, 7]\n",
    "\n",
    "NumInsert([1, 2, 3, 4, 5, 6], -1) returns [-1, 1, 2, 3, 4, 5, 6]"
   ]
  },
  {
   "cell_type": "code",
   "execution_count": 197,
   "metadata": {},
   "outputs": [],
   "source": [
    "def InsertLst(my_list, n):\n",
    "    my_list.append(n)\n",
    "    return sorted(my_list)"
   ]
  },
  {
   "cell_type": "code",
   "execution_count": 199,
   "metadata": {},
   "outputs": [
    {
     "data": {
      "text/plain": [
       "[2, 3, 3, 3, 4, 4, 4, 5, 5, 6, 6, 7, 8, 100]"
      ]
     },
     "execution_count": 199,
     "metadata": {},
     "output_type": "execute_result"
    }
   ],
   "source": [
    "my_list = [6,3,4,2,6,3,4,7,4,5,8,3,5]\n",
    "InsertLst(my_list, 100)"
   ]
  },
  {
   "cell_type": "code",
   "execution_count": 200,
   "metadata": {},
   "outputs": [],
   "source": [
    "def intertlist(my_list, n):\n",
    "    for i in my_list:\n",
    "        \n",
    "            "
   ]
  },
  {
   "cell_type": "code",
   "execution_count": 205,
   "metadata": {},
   "outputs": [
    {
     "data": {
      "text/plain": [
       "[5]"
      ]
     },
     "execution_count": 205,
     "metadata": {},
     "output_type": "execute_result"
    }
   ],
   "source": [
    "list1=[]\n",
    "list1.append(5)\n",
    "list1"
   ]
  },
  {
   "cell_type": "code",
   "execution_count": 206,
   "metadata": {},
   "outputs": [],
   "source": [
    "def removedup(sorted_list):\n",
    "    res=[]\n",
    "    for i in sorted_list:\n",
    "        if i not in res:\n",
    "            res.append(i)\n",
    "    return res"
   ]
  },
  {
   "cell_type": "code",
   "execution_count": 208,
   "metadata": {},
   "outputs": [
    {
     "data": {
      "text/plain": [
       "[2, 3, 4, 5, 6, 7, 8, 100]"
      ]
     },
     "execution_count": 208,
     "metadata": {},
     "output_type": "execute_result"
    }
   ],
   "source": [
    "removedup(sorted(my_list))"
   ]
  },
  {
   "cell_type": "markdown",
   "metadata": {},
   "source": [
    "## Merge Two Sorted Lists\n",
    "\n",
    "Description\n",
    "\n",
    "Build a function MergeSorted which merges two sorted lists as one sorted list.\n",
    "\n",
    "Examples\n",
    "\n",
    "MergeSorted([1, 3, 5], [2, 4, 6]) returns [1, 2, 3, 4, 5, 6]\n",
    "\n",
    "MergeSorted([1, 2, 3], [4, 5, 6]) returns [1, 2, 3, 4, 5, 6]"
   ]
  },
  {
   "cell_type": "code",
   "execution_count": 209,
   "metadata": {},
   "outputs": [],
   "source": [
    "def mergelists(list_a, list_b):\n",
    "    list_c = list_a + list_b\n",
    "    new_list = []\n",
    "    while list_c:\n",
    "        minm = list_c[0]\n",
    "        for i in list_c:\n",
    "            if minm > i:\n",
    "                minm = i\n",
    "        new_list.append(minm)\n",
    "        list_c.remove(minm)\n",
    "    return new_list"
   ]
  },
  {
   "cell_type": "code",
   "execution_count": 210,
   "metadata": {},
   "outputs": [
    {
     "data": {
      "text/plain": [
       "[2, 2, 2, 3, 3, 4, 4, 4, 4, 5, 5, 5, 6, 6, 7]"
      ]
     },
     "execution_count": 210,
     "metadata": {},
     "output_type": "execute_result"
    }
   ],
   "source": [
    "list_a = [3,2,4,5,2,4,6]\n",
    "list_b = [5,3,4,7,5,2,4,6]\n",
    "\n",
    "mergelists(list_a, list_b)"
   ]
  },
  {
   "cell_type": "markdown",
   "metadata": {},
   "source": [
    "## List to Number\n",
    "\n",
    "Description\n",
    "\n",
    "Build a function Lst2Num which convert a number list into one number.\n",
    "\n",
    "Examples\n",
    "\n",
    "Lst2Num([1, 3, 5]) returns 135\n",
    "\n",
    "Lst2Num([0, 1, 2, 0, 3]) returns 1203"
   ]
  },
  {
   "cell_type": "code",
   "execution_count": 227,
   "metadata": {},
   "outputs": [],
   "source": [
    "def list2num(my_list):\n",
    "    s=''\n",
    "    for i in my_list:\n",
    "        s = s+ str(i)\n",
    "    return int(s)    "
   ]
  },
  {
   "cell_type": "code",
   "execution_count": 228,
   "metadata": {},
   "outputs": [
    {
     "data": {
      "text/plain": [
       "942"
      ]
     },
     "execution_count": 228,
     "metadata": {},
     "output_type": "execute_result"
    }
   ],
   "source": [
    "list2num([0, 9, 4,2])"
   ]
  },
  {
   "cell_type": "code",
   "execution_count": 232,
   "metadata": {},
   "outputs": [],
   "source": [
    "def list2num(my_list):\n",
    "    s=''.join(my_list)\n",
    "    return int(s)    "
   ]
  },
  {
   "cell_type": "code",
   "execution_count": 233,
   "metadata": {},
   "outputs": [
    {
     "ename": "TypeError",
     "evalue": "sequence item 0: expected str instance, int found",
     "output_type": "error",
     "traceback": [
      "\u001b[0;31m---------------------------------------------------------------------------\u001b[0m",
      "\u001b[0;31mTypeError\u001b[0m                                 Traceback (most recent call last)",
      "\u001b[0;32m<ipython-input-233-74e956e1eff6>\u001b[0m in \u001b[0;36m<module>\u001b[0;34m\u001b[0m\n\u001b[0;32m----> 1\u001b[0;31m \u001b[0mlist2num\u001b[0m\u001b[0;34m(\u001b[0m\u001b[0mlist_b\u001b[0m\u001b[0;34m)\u001b[0m\u001b[0;34m\u001b[0m\u001b[0;34m\u001b[0m\u001b[0m\n\u001b[0m",
      "\u001b[0;32m<ipython-input-232-8749deb2f232>\u001b[0m in \u001b[0;36mlist2num\u001b[0;34m(my_list)\u001b[0m\n\u001b[1;32m      1\u001b[0m \u001b[0;32mdef\u001b[0m \u001b[0mlist2num\u001b[0m\u001b[0;34m(\u001b[0m\u001b[0mmy_list\u001b[0m\u001b[0;34m)\u001b[0m\u001b[0;34m:\u001b[0m\u001b[0;34m\u001b[0m\u001b[0;34m\u001b[0m\u001b[0m\n\u001b[0;32m----> 2\u001b[0;31m     \u001b[0ms\u001b[0m\u001b[0;34m=\u001b[0m\u001b[0;34m''\u001b[0m\u001b[0;34m.\u001b[0m\u001b[0mjoin\u001b[0m\u001b[0;34m(\u001b[0m\u001b[0mmy_list\u001b[0m\u001b[0;34m)\u001b[0m\u001b[0;34m\u001b[0m\u001b[0;34m\u001b[0m\u001b[0m\n\u001b[0m\u001b[1;32m      3\u001b[0m     \u001b[0;32mreturn\u001b[0m \u001b[0mint\u001b[0m\u001b[0;34m(\u001b[0m\u001b[0ms\u001b[0m\u001b[0;34m)\u001b[0m\u001b[0;34m\u001b[0m\u001b[0;34m\u001b[0m\u001b[0m\n",
      "\u001b[0;31mTypeError\u001b[0m: sequence item 0: expected str instance, int found"
     ]
    }
   ],
   "source": [
    "list2num(list_b)"
   ]
  },
  {
   "cell_type": "code",
   "execution_count": null,
   "metadata": {},
   "outputs": [],
   "source": []
  }
 ],
 "metadata": {
  "kernelspec": {
   "display_name": "Python 3",
   "language": "python",
   "name": "python3"
  },
  "language_info": {
   "codemirror_mode": {
    "name": "ipython",
    "version": 3
   },
   "file_extension": ".py",
   "mimetype": "text/x-python",
   "name": "python",
   "nbconvert_exporter": "python",
   "pygments_lexer": "ipython3",
   "version": "3.6.9"
  }
 },
 "nbformat": 4,
 "nbformat_minor": 4
}
