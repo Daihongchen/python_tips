{
 "cells": [
  {
   "cell_type": "code",
   "execution_count": 1,
   "metadata": {},
   "outputs": [],
   "source": [
    "import pandas as pd\n",
    "import numpy as np"
   ]
  },
  {
   "cell_type": "markdown",
   "metadata": {},
   "source": [
    "## Useful Python Coding Tips"
   ]
  },
  {
   "cell_type": "code",
   "execution_count": 2,
   "metadata": {},
   "outputs": [
    {
     "data": {
      "text/plain": [
       "'gnohiadwolleh'"
      ]
     },
     "execution_count": 2,
     "metadata": {},
     "output_type": "execute_result"
    }
   ],
   "source": [
    "# reverse\n",
    "\n",
    "my_string = \"hellowdaihong\"\n",
    "\n",
    "reversed_string = my_string[::-1]\n",
    "\n",
    "reversed_string "
   ]
  },
  {
   "cell_type": "code",
   "execution_count": 25,
   "metadata": {},
   "outputs": [
    {
     "data": {
      "text/plain": [
       "'gnohiadwolleh'"
      ]
     },
     "execution_count": 25,
     "metadata": {},
     "output_type": "execute_result"
    }
   ],
   "source": [
    "## writw an algorithm without using a function\n",
    "def reverse_string(my_string):\n",
    "    \n",
    "    temp_list=[]\n",
    "    for i in range(len(my_string)-1, -1, -1):\n",
    "        temp_list.append(my_string[i])\n",
    "        new_str = ''.join(temp_list)\n",
    "    return new_str\n",
    "\n",
    "my_string = \"hellowdaihong\"\n",
    "\n",
    "reverse_string(my_string)"
   ]
  },
  {
   "cell_type": "code",
   "execution_count": 3,
   "metadata": {},
   "outputs": [
    {
     "name": "stdout",
     "output_type": "stream",
     "text": [
      " Today Is A New Day. Please Cheer Up\n"
     ]
    }
   ],
   "source": [
    "# Catitalize the first letter\n",
    "\n",
    "my_string = \" today is a new day, please cheer up\"\n",
    "\n",
    "my_string = my_string.title()\n",
    "print(my_string)"
   ]
  },
  {
   "cell_type": "code",
   "execution_count": 41,
   "metadata": {},
   "outputs": [
    {
     "name": "stdout",
     "output_type": "stream",
     "text": [
      "bgactenhkd\n"
     ]
    }
   ],
   "source": [
    "# find the unique elements\n",
    "my_string = \"abcghdngbacndcadckgnadcadacgaetdgadcac\"\n",
    "\n",
    "temp_set = set(my_string)\n",
    "\n",
    "new_string = ''.join(temp_set)\n",
    "print(new_string)"
   ]
  },
  {
   "cell_type": "code",
   "execution_count": 35,
   "metadata": {},
   "outputs": [],
   "source": [
    "## write a function to find the unique elements\n",
    "\n",
    "def unique_elements(my_string):\n",
    "    hashmap = {}\n",
    "    for i in my_string:\n",
    "        if i not in hashmap:\n",
    "            hashmap[i] = 1\n",
    "        else:\n",
    "            hashmap[i] +=1\n",
    "    \n",
    "    temp_list = hashmap.keys()\n",
    "    unique_str = ''.join(temp_list)\n",
    "    return unique_str\n",
    "        "
   ]
  },
  {
   "cell_type": "code",
   "execution_count": 40,
   "metadata": {},
   "outputs": [
    {
     "name": "stdout",
     "output_type": "stream",
     "text": [
      "abcghdnket\n"
     ]
    }
   ],
   "source": [
    "my_string = \"abcghdngbacndcadckgnadcadacgaetdgadcac\"\n",
    "unique_elements(my_string)\n",
    "print(unique_elements(my_string))"
   ]
  },
  {
   "cell_type": "code",
   "execution_count": 11,
   "metadata": {},
   "outputs": [
    {
     "name": "stdout",
     "output_type": "stream",
     "text": [
      "ABCDABCDABCD\n",
      "[2, 5, 6, 2, 5, 6, 2, 5, 6]\n"
     ]
    }
   ],
   "source": [
    "# string or list times by a number\n",
    "\n",
    "my_string = \"ABCD\"\n",
    "my_list = [2,5,6]\n",
    "\n",
    "new_string = my_string * 3\n",
    "\n",
    "new_list = my_list * 3\n",
    "\n",
    "print(new_string)\n",
    "\n",
    "print(new_list)"
   ]
  },
  {
   "cell_type": "code",
   "execution_count": 42,
   "metadata": {},
   "outputs": [
    {
     "data": {
      "text/plain": [
       "[5, 10, 15, 25, 30, 35, 40]"
      ]
     },
     "execution_count": 42,
     "metadata": {},
     "output_type": "execute_result"
    }
   ],
   "source": [
    "## list comprehension\n",
    "\n",
    "orginal_list = [1,2,3,5,6,7,8]\n",
    "new_list = [5 * i for i in orginal_list]\n",
    "new_list"
   ]
  },
  {
   "cell_type": "code",
   "execution_count": 43,
   "metadata": {},
   "outputs": [
    {
     "name": "stdout",
     "output_type": "stream",
     "text": [
      "5 1\n"
     ]
    }
   ],
   "source": [
    "## exchange element\n",
    "a = 1\n",
    "b = 5\n",
    "a, b = b, a\n",
    "print(a, b)"
   ]
  },
  {
   "cell_type": "code",
   "execution_count": 46,
   "metadata": {},
   "outputs": [
    {
     "name": "stdout",
     "output_type": "stream",
     "text": [
      "['I', 'love', 'autumn', 'because', 'it', 'is', 'a', 'very', 'beautiful', 'day']\n",
      "['sample', 'string', 'split']\n"
     ]
    },
    {
     "data": {
      "text/plain": [
       "'i love autumn because it is a very beautiful day'"
      ]
     },
     "execution_count": 46,
     "metadata": {},
     "output_type": "execute_result"
    }
   ],
   "source": [
    "## split string as single element in a list\n",
    "\n",
    "string1 = 'I love autumn because it is a very beautiful day'\n",
    "string2 = 'sample;string;split'\n",
    "print(string1.split())\n",
    "print(string2.split(';'))\n",
    "\n",
    "## join strings as a sentence:\n",
    "str_list = ['i', 'love', 'autumn', 'because', 'it', 'is', 'a', 'very', 'beautiful', 'day']\n",
    "' '.join(str_list)"
   ]
  },
  {
   "cell_type": "code",
   "execution_count": 51,
   "metadata": {},
   "outputs": [],
   "source": [
    "## Palindrome \n",
    "\n",
    "def check_palindrome(my_string):\n",
    "    if my_string == my_string[::-1]:\n",
    "        return True\n",
    "    else:\n",
    "        return False"
   ]
  },
  {
   "cell_type": "code",
   "execution_count": 52,
   "metadata": {},
   "outputs": [
    {
     "data": {
      "text/plain": [
       "True"
      ]
     },
     "execution_count": 52,
     "metadata": {},
     "output_type": "execute_result"
    }
   ],
   "source": [
    "check_palindrome('abba')"
   ]
  },
  {
   "cell_type": "code",
   "execution_count": 54,
   "metadata": {},
   "outputs": [
    {
     "data": {
      "text/plain": [
       "'gfedcba'"
      ]
     },
     "execution_count": 54,
     "metadata": {},
     "output_type": "execute_result"
    }
   ],
   "source": [
    "my_string = 'abcdefg'\n",
    "my_string[::-1]"
   ]
  },
  {
   "cell_type": "code",
   "execution_count": 58,
   "metadata": {},
   "outputs": [
    {
     "name": "stdout",
     "output_type": "stream",
     "text": [
      "Counter({5: 6, 7: 4, 1: 3, 2: 3, 3: 3, 6: 3, 4: 2, 78: 1, 42: 1, 21: 1, 34: 1, 32: 1})\n",
      "[(5, 6), (7, 4)]\n"
     ]
    }
   ],
   "source": [
    "## Counter and most_common() function\n",
    "from collections import Counter\n",
    "\n",
    "my_list = [1,2,3,5,2,5,6,7,78,3,4,5,42,21,34,32,1,3,4,5,6,7,7,5,6,7,2,1,5]\n",
    "\n",
    "count=Counter(my_list)\n",
    "print(count)\n",
    "print(count.most_common(2))"
   ]
  },
  {
   "cell_type": "code",
   "execution_count": 61,
   "metadata": {},
   "outputs": [],
   "source": [
    "# write a function:\n",
    "\n",
    "def counter_func(my_list):\n",
    "    hashmark = {}\n",
    "    for i in my_list:\n",
    "        if i not in hashmark:\n",
    "            hashmark[i] = 1\n",
    "        else:\n",
    "            hashmark[i] += 1\n",
    "    return hashmark"
   ]
  },
  {
   "cell_type": "code",
   "execution_count": 62,
   "metadata": {},
   "outputs": [
    {
     "data": {
      "text/plain": [
       "{1: 3, 2: 3, 3: 3, 5: 6, 6: 3, 7: 4, 78: 1, 4: 2, 42: 1, 21: 1, 34: 1, 32: 1}"
      ]
     },
     "execution_count": 62,
     "metadata": {},
     "output_type": "execute_result"
    }
   ],
   "source": [
    "my_list = [1,2,3,5,2,5,6,7,78,3,4,5,42,21,34,32,1,3,4,5,6,7,7,5,6,7,2,1,5]\n",
    "counter_func(my_list)"
   ]
  },
  {
   "cell_type": "code",
   "execution_count": 67,
   "metadata": {},
   "outputs": [],
   "source": [
    "## use counter to check anagrams: anagrams means the elements are the same in two strings but different oder\n",
    "\n",
    "from collections import Counter\n",
    "str_1 = 'abbcdegt'\n",
    "str_2 = 'acdbegbt'\n",
    "str_3 = 'abhdacgt'\n",
    "\n",
    "def check_anagram(str_a, str_b):\n",
    "    count_a = Counter(str_a)\n",
    "    count_b = Counter(str_b)\n",
    "    if count_a == count_b:\n",
    "        return True\n",
    "    else:\n",
    "        return False"
   ]
  },
  {
   "cell_type": "code",
   "execution_count": 68,
   "metadata": {},
   "outputs": [
    {
     "data": {
      "text/plain": [
       "False"
      ]
     },
     "execution_count": 68,
     "metadata": {},
     "output_type": "execute_result"
    }
   ],
   "source": [
    "check_anagram(str_1, str_3)"
   ]
  },
  {
   "cell_type": "code",
   "execution_count": 69,
   "metadata": {},
   "outputs": [
    {
     "name": "stdout",
     "output_type": "stream",
     "text": [
      "5.0\n",
      "no exceptions raised\n",
      "run this always\n"
     ]
    }
   ],
   "source": [
    "## try, except, else, finally:\n",
    "a, b = 10, 2\n",
    "try:\n",
    "    print(a/b)\n",
    "except ZeroDivisionError:\n",
    "        print('devision by zero')\n",
    "else:\n",
    "    print('no exceptions raised')\n",
    "finally:\n",
    "    print('run this always')"
   ]
  },
  {
   "cell_type": "code",
   "execution_count": 70,
   "metadata": {},
   "outputs": [
    {
     "name": "stdout",
     "output_type": "stream",
     "text": [
      "28\n"
     ]
    }
   ],
   "source": [
    "## find the strorage size for the element\n",
    "import sys\n",
    "num = 23456\n",
    "print(sys.getsizeof(num))"
   ]
  },
  {
   "cell_type": "code",
   "execution_count": 73,
   "metadata": {},
   "outputs": [
    {
     "name": "stdout",
     "output_type": "stream",
     "text": [
      "{'apple': 4, 'banana': 3, 'blueberry': 12, 'orage': 2}\n"
     ]
    }
   ],
   "source": [
    "## combine dictionaries: if all dictionaries have the same key, the last one will be used. \n",
    "dic_a = {'apple': 4, 'banana': 6}\n",
    "dic_b = {'banana': 9, 'blueberry': 12}\n",
    "dic_c = {'banana': 3, \"orage\": 2}\n",
    "\n",
    "\n",
    "combine_dic = {**dic_a, **dic_b, **dic_c}\n",
    "print(combine_dic)"
   ]
  },
  {
   "cell_type": "code",
   "execution_count": 76,
   "metadata": {},
   "outputs": [
    {
     "name": "stdout",
     "output_type": "stream",
     "text": [
      "<generator object flatten.<locals>.<genexpr> at 0x10e97e0a0>\n"
     ]
    }
   ],
   "source": [
    "# flatten list:\n",
    "\n",
    "# from iteration_utilities import deepflatten\n",
    "\n",
    "def flatten(l):\n",
    "    return (item for sublist in l for item in sublist)\n",
    "\n",
    "l = [[1,2,3], [3,4,5]]\n",
    "print(flatten(l))"
   ]
  },
  {
   "cell_type": "code",
   "execution_count": 78,
   "metadata": {},
   "outputs": [
    {
     "data": {
      "text/plain": [
       "[26, 8, 88, 92, 39, 77, 38, 71, 93, 4]"
      ]
     },
     "execution_count": 78,
     "metadata": {},
     "output_type": "execute_result"
    }
   ],
   "source": [
    "## random sampling:\n",
    "import random\n",
    "\n",
    "my_list = range(100)\n",
    "\n",
    "my_sample = random.sample(my_list, 10)\n",
    "my_sample"
   ]
  },
  {
   "cell_type": "code",
   "execution_count": 82,
   "metadata": {},
   "outputs": [
    {
     "data": {
      "text/plain": [
       "[59, 58, 51, 3, 20, 60, 78, 68, 16, 56]"
      ]
     },
     "execution_count": 82,
     "metadata": {},
     "output_type": "execute_result"
    }
   ],
   "source": [
    "# secured sampling\n",
    "\n",
    "import secrets\n",
    "secure_random = secrets.SystemRandom()\n",
    "my_sample = secure_random.sample(my_list, 10)\n",
    "my_sample"
   ]
  },
  {
   "cell_type": "code",
   "execution_count": null,
   "metadata": {},
   "outputs": [],
   "source": []
  }
 ],
 "metadata": {
  "kernelspec": {
   "display_name": "Python 3",
   "language": "python",
   "name": "python3"
  },
  "language_info": {
   "codemirror_mode": {
    "name": "ipython",
    "version": 3
   },
   "file_extension": ".py",
   "mimetype": "text/x-python",
   "name": "python",
   "nbconvert_exporter": "python",
   "pygments_lexer": "ipython3",
   "version": "3.6.9"
  }
 },
 "nbformat": 4,
 "nbformat_minor": 4
}
