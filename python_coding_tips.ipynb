{
 "cells": [
  {
   "cell_type": "code",
   "execution_count": 1,
   "metadata": {},
   "outputs": [],
   "source": [
    "import pandas as pd\n",
    "import numpy as np"
   ]
  },
  {
   "cell_type": "markdown",
   "metadata": {},
   "source": [
    "## Useful Python Coding Tips"
   ]
  },
  {
   "cell_type": "code",
   "execution_count": 2,
   "metadata": {},
   "outputs": [
    {
     "data": {
      "text/plain": [
       "'gnohiadwolleh'"
      ]
     },
     "execution_count": 2,
     "metadata": {},
     "output_type": "execute_result"
    }
   ],
   "source": [
    "# reverse\n",
    "\n",
    "my_string = \"hellowdaihong\"\n",
    "\n",
    "reversed_string = my_string[::-1]\n",
    "\n",
    "reversed_string "
   ]
  },
  {
   "cell_type": "code",
   "execution_count": 25,
   "metadata": {},
   "outputs": [
    {
     "data": {
      "text/plain": [
       "'gnohiadwolleh'"
      ]
     },
     "execution_count": 25,
     "metadata": {},
     "output_type": "execute_result"
    }
   ],
   "source": [
    "## writw an algorithm without using a function\n",
    "def reverse_string(my_string):\n",
    "    \n",
    "    temp_list=[]\n",
    "    for i in range(len(my_string)-1, -1, -1):\n",
    "        temp_list.append(my_string[i])\n",
    "        new_str = ''.join(temp_list)\n",
    "    return new_str\n",
    "\n",
    "my_string = \"hellowdaihong\"\n",
    "\n",
    "reverse_string(my_string)"
   ]
  },
  {
   "cell_type": "code",
   "execution_count": 3,
   "metadata": {},
   "outputs": [
    {
     "name": "stdout",
     "output_type": "stream",
     "text": [
      " Today Is A New Day. Please Cheer Up\n"
     ]
    }
   ],
   "source": [
    "# Catitalize the first letter\n",
    "\n",
    "my_string = \" today is a new day, please cheer up\"\n",
    "\n",
    "my_string = my_string.title()\n",
    "print(my_string)"
   ]
  },
  {
   "cell_type": "code",
   "execution_count": 9,
   "metadata": {},
   "outputs": [
    {
     "name": "stdout",
     "output_type": "stream",
     "text": [
      "nkegtcbdha\n"
     ]
    }
   ],
   "source": [
    "# find the unique elements\n",
    "my_string = \"abcghdngbacndcadckgnadcadacgaetdgadcac\"\n",
    "\n",
    "temp_set = set(my_string)\n",
    "\n",
    "new_string = ''.join(temp_set)\n",
    "print(new_string)"
   ]
  },
  {
   "cell_type": "code",
   "execution_count": 35,
   "metadata": {},
   "outputs": [],
   "source": [
    "## write a function to find the unique elements\n",
    "\n",
    "def unique_elements(my_string):\n",
    "    hashmap = {}\n",
    "    for i in my_string:\n",
    "        if i not in hashmap:\n",
    "            hashmap[i] = 1\n",
    "        else:\n",
    "            hashmap[i] +=1\n",
    "    \n",
    "    temp_list = hashmap.keys()\n",
    "    unique_str = ''.join(temp_list)\n",
    "    return unique_str\n",
    "        "
   ]
  },
  {
   "cell_type": "code",
   "execution_count": 36,
   "metadata": {},
   "outputs": [
    {
     "data": {
      "text/plain": [
       "'abcghdnket'"
      ]
     },
     "execution_count": 36,
     "metadata": {},
     "output_type": "execute_result"
    }
   ],
   "source": [
    "my_string = \"abcghdngbacndcadckgnadcadacgaetdgadcac\"\n",
    "unique_elements(my_string)"
   ]
  },
  {
   "cell_type": "code",
   "execution_count": 11,
   "metadata": {},
   "outputs": [
    {
     "name": "stdout",
     "output_type": "stream",
     "text": [
      "ABCDABCDABCD\n",
      "[2, 5, 6, 2, 5, 6, 2, 5, 6]\n"
     ]
    }
   ],
   "source": [
    "# string or list times by a number\n",
    "\n",
    "my_string = \"ABCD\"\n",
    "my_list = [2,5,6]\n",
    "\n",
    "new_string = my_string * 3\n",
    "\n",
    "new_list = my_list * 3\n",
    "\n",
    "print(new_string)\n",
    "\n",
    "print(new_list)"
   ]
  },
  {
   "cell_type": "code",
   "execution_count": null,
   "metadata": {},
   "outputs": [],
   "source": []
  }
 ],
 "metadata": {
  "kernelspec": {
   "display_name": "Python 3",
   "language": "python",
   "name": "python3"
  },
  "language_info": {
   "codemirror_mode": {
    "name": "ipython",
    "version": 3
   },
   "file_extension": ".py",
   "mimetype": "text/x-python",
   "name": "python",
   "nbconvert_exporter": "python",
   "pygments_lexer": "ipython3",
   "version": "3.6.9"
  }
 },
 "nbformat": 4,
 "nbformat_minor": 4
}
